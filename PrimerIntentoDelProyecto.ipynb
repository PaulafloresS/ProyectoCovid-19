{
 "cells": [
  {
   "cell_type": "code",
   "execution_count": 31,
   "metadata": {},
   "outputs": [],
   "source": [
    "import pandas as pd\n",
    "import numpy as np\n",
    "import seaborn as sns\n",
    "import matplotlib.pyplot as plt"
   ]
  },
  {
   "cell_type": "code",
   "execution_count": 32,
   "metadata": {},
   "outputs": [],
   "source": [
    "\n",
    "from copy import deepcopy\n",
    "from numpy.linalg import norm"
   ]
  },
  {
   "cell_type": "code",
   "execution_count": 33,
   "metadata": {},
   "outputs": [
    {
     "data": {
      "text/html": [
       "<div>\n",
       "<style scoped>\n",
       "    .dataframe tbody tr th:only-of-type {\n",
       "        vertical-align: middle;\n",
       "    }\n",
       "\n",
       "    .dataframe tbody tr th {\n",
       "        vertical-align: top;\n",
       "    }\n",
       "\n",
       "    .dataframe thead th {\n",
       "        text-align: right;\n",
       "    }\n",
       "</style>\n",
       "<table border=\"1\" class=\"dataframe\">\n",
       "  <thead>\n",
       "    <tr style=\"text-align: right;\">\n",
       "      <th></th>\n",
       "      <th>ID</th>\n",
       "      <th>age</th>\n",
       "      <th>sex</th>\n",
       "      <th>city</th>\n",
       "      <th>province</th>\n",
       "      <th>country</th>\n",
       "      <th>wuhan(0)_not_wuhan(1)</th>\n",
       "      <th>latitude</th>\n",
       "      <th>longitude</th>\n",
       "      <th>geo_resolution</th>\n",
       "      <th>...</th>\n",
       "      <th>outcome</th>\n",
       "      <th>date_death_or_discharge</th>\n",
       "      <th>notes_for_discussion</th>\n",
       "      <th>location</th>\n",
       "      <th>admin3</th>\n",
       "      <th>admin2</th>\n",
       "      <th>admin1</th>\n",
       "      <th>country_new</th>\n",
       "      <th>admin_id</th>\n",
       "      <th>data_moderator_initials</th>\n",
       "    </tr>\n",
       "  </thead>\n",
       "  <tbody>\n",
       "    <tr>\n",
       "      <th>0</th>\n",
       "      <td>1.0</td>\n",
       "      <td>30</td>\n",
       "      <td>male</td>\n",
       "      <td>Chaohu City, Hefei City</td>\n",
       "      <td>Anhui</td>\n",
       "      <td>China</td>\n",
       "      <td>1.0</td>\n",
       "      <td>31.646960</td>\n",
       "      <td>117.716600</td>\n",
       "      <td>admin3</td>\n",
       "      <td>...</td>\n",
       "      <td>NaN</td>\n",
       "      <td>NaN</td>\n",
       "      <td>NaN</td>\n",
       "      <td>NaN</td>\n",
       "      <td>Chaohu City</td>\n",
       "      <td>Hefei City</td>\n",
       "      <td>Anhui</td>\n",
       "      <td>China</td>\n",
       "      <td>340181</td>\n",
       "      <td>NaN</td>\n",
       "    </tr>\n",
       "    <tr>\n",
       "      <th>1</th>\n",
       "      <td>2.0</td>\n",
       "      <td>47</td>\n",
       "      <td>male</td>\n",
       "      <td>Baohe District, Hefei City</td>\n",
       "      <td>Anhui</td>\n",
       "      <td>China</td>\n",
       "      <td>1.0</td>\n",
       "      <td>31.778630</td>\n",
       "      <td>117.331900</td>\n",
       "      <td>admin3</td>\n",
       "      <td>...</td>\n",
       "      <td>NaN</td>\n",
       "      <td>NaN</td>\n",
       "      <td>NaN</td>\n",
       "      <td>NaN</td>\n",
       "      <td>Baohe District</td>\n",
       "      <td>Hefei City</td>\n",
       "      <td>Anhui</td>\n",
       "      <td>China</td>\n",
       "      <td>340111</td>\n",
       "      <td>NaN</td>\n",
       "    </tr>\n",
       "    <tr>\n",
       "      <th>2</th>\n",
       "      <td>3.0</td>\n",
       "      <td>49</td>\n",
       "      <td>male</td>\n",
       "      <td>High-Tech Zone, Hefei City</td>\n",
       "      <td>Anhui</td>\n",
       "      <td>China</td>\n",
       "      <td>1.0</td>\n",
       "      <td>31.828313</td>\n",
       "      <td>117.224844</td>\n",
       "      <td>point</td>\n",
       "      <td>...</td>\n",
       "      <td>NaN</td>\n",
       "      <td>NaN</td>\n",
       "      <td>NaN</td>\n",
       "      <td>High-Tech Zone</td>\n",
       "      <td>Shushan District</td>\n",
       "      <td>Hefei City</td>\n",
       "      <td>Anhui</td>\n",
       "      <td>China</td>\n",
       "      <td>340104</td>\n",
       "      <td>NaN</td>\n",
       "    </tr>\n",
       "    <tr>\n",
       "      <th>3</th>\n",
       "      <td>4.0</td>\n",
       "      <td>47</td>\n",
       "      <td>female</td>\n",
       "      <td>High-Tech Zone, Hefei City</td>\n",
       "      <td>Anhui</td>\n",
       "      <td>China</td>\n",
       "      <td>1.0</td>\n",
       "      <td>31.828313</td>\n",
       "      <td>117.224844</td>\n",
       "      <td>point</td>\n",
       "      <td>...</td>\n",
       "      <td>NaN</td>\n",
       "      <td>NaN</td>\n",
       "      <td>NaN</td>\n",
       "      <td>High-Tech Zone</td>\n",
       "      <td>Shushan District</td>\n",
       "      <td>Hefei City</td>\n",
       "      <td>Anhui</td>\n",
       "      <td>China</td>\n",
       "      <td>340104</td>\n",
       "      <td>NaN</td>\n",
       "    </tr>\n",
       "    <tr>\n",
       "      <th>4</th>\n",
       "      <td>5.0</td>\n",
       "      <td>50</td>\n",
       "      <td>female</td>\n",
       "      <td>Feidong County, Hefei City</td>\n",
       "      <td>Anhui</td>\n",
       "      <td>China</td>\n",
       "      <td>1.0</td>\n",
       "      <td>32.001230</td>\n",
       "      <td>117.568100</td>\n",
       "      <td>admin3</td>\n",
       "      <td>...</td>\n",
       "      <td>NaN</td>\n",
       "      <td>NaN</td>\n",
       "      <td>NaN</td>\n",
       "      <td>NaN</td>\n",
       "      <td>Feidong County</td>\n",
       "      <td>Hefei City</td>\n",
       "      <td>Anhui</td>\n",
       "      <td>China</td>\n",
       "      <td>340122</td>\n",
       "      <td>NaN</td>\n",
       "    </tr>\n",
       "  </tbody>\n",
       "</table>\n",
       "<p>5 rows × 33 columns</p>\n",
       "</div>"
      ],
      "text/plain": [
       "    ID age     sex                        city province country  \\\n",
       "0  1.0  30    male     Chaohu City, Hefei City    Anhui   China   \n",
       "1  2.0  47    male  Baohe District, Hefei City    Anhui   China   \n",
       "2  3.0  49    male  High-Tech Zone, Hefei City    Anhui   China   \n",
       "3  4.0  47  female  High-Tech Zone, Hefei City    Anhui   China   \n",
       "4  5.0  50  female  Feidong County, Hefei City    Anhui   China   \n",
       "\n",
       "   wuhan(0)_not_wuhan(1)   latitude   longitude geo_resolution  ... outcome  \\\n",
       "0                    1.0  31.646960  117.716600         admin3  ...     NaN   \n",
       "1                    1.0  31.778630  117.331900         admin3  ...     NaN   \n",
       "2                    1.0  31.828313  117.224844          point  ...     NaN   \n",
       "3                    1.0  31.828313  117.224844          point  ...     NaN   \n",
       "4                    1.0  32.001230  117.568100         admin3  ...     NaN   \n",
       "\n",
       "  date_death_or_discharge notes_for_discussion        location  \\\n",
       "0                     NaN                  NaN             NaN   \n",
       "1                     NaN                  NaN             NaN   \n",
       "2                     NaN                  NaN  High-Tech Zone   \n",
       "3                     NaN                  NaN  High-Tech Zone   \n",
       "4                     NaN                  NaN             NaN   \n",
       "\n",
       "             admin3      admin2 admin1 country_new admin_id  \\\n",
       "0       Chaohu City  Hefei City  Anhui       China   340181   \n",
       "1    Baohe District  Hefei City  Anhui       China   340111   \n",
       "2  Shushan District  Hefei City  Anhui       China   340104   \n",
       "3  Shushan District  Hefei City  Anhui       China   340104   \n",
       "4    Feidong County  Hefei City  Anhui       China   340122   \n",
       "\n",
       "   data_moderator_initials  \n",
       "0                      NaN  \n",
       "1                      NaN  \n",
       "2                      NaN  \n",
       "3                      NaN  \n",
       "4                      NaN  \n",
       "\n",
       "[5 rows x 33 columns]"
      ]
     },
     "execution_count": 33,
     "metadata": {},
     "output_type": "execute_result"
    }
   ],
   "source": [
    "\n",
    "data = pd.read_csv('https://raw.githubusercontent.com/PaulafloresS/PythonML-PrebecariosProteco/master/Proyecto/COVID19_open_line_list.csv', header = 0)\n",
    "data.drop(['Unnamed: '+str(x) for x in range(33,45)],axis=1,inplace=True)\n",
    "data.head()"
   ]
  },
  {
   "cell_type": "code",
   "execution_count": 35,
   "metadata": {},
   "outputs": [
    {
     "data": {
      "text/plain": [
       "['ID',\n",
       " 'age',\n",
       " 'sex',\n",
       " 'city',\n",
       " 'province',\n",
       " 'country',\n",
       " 'wuhan(0)_not_wuhan(1)',\n",
       " 'latitude',\n",
       " 'longitude',\n",
       " 'geo_resolution',\n",
       " 'date_onset_symptoms',\n",
       " 'date_admission_hospital',\n",
       " 'date_confirmation',\n",
       " 'symptoms',\n",
       " 'lives_in_Wuhan',\n",
       " 'travel_history_dates',\n",
       " 'travel_history_location',\n",
       " 'reported_market_exposure',\n",
       " 'additional_information',\n",
       " 'chronic_disease_binary',\n",
       " 'chronic_disease',\n",
       " 'source',\n",
       " 'sequence_available',\n",
       " 'outcome',\n",
       " 'date_death_or_discharge',\n",
       " 'notes_for_discussion',\n",
       " 'location',\n",
       " 'admin3',\n",
       " 'admin2',\n",
       " 'admin1',\n",
       " 'country_new',\n",
       " 'admin_id',\n",
       " 'data_moderator_initials']"
      ]
     },
     "execution_count": 35,
     "metadata": {},
     "output_type": "execute_result"
    }
   ],
   "source": [
    "list(data.columns.values)\n",
    "\n"
   ]
  },
  {
   "cell_type": "code",
   "execution_count": 36,
   "metadata": {
    "scrolled": true
   },
   "outputs": [
    {
     "data": {
      "text/plain": [
       "array([nan, 'discharged', 'discharge', 'died', 'Discharged', '05.02.2020',\n",
       "       'death',\n",
       "       'Symptoms only improved with cough. Currently hospitalized for follow-up.',\n",
       "       'recovered', 'stable',\n",
       "       'critical condition, intubated as of 14.02.2020',\n",
       "       'treated in an intensive care unit (14.02.2020)', 'severe'],\n",
       "      dtype=object)"
      ]
     },
     "execution_count": 36,
     "metadata": {},
     "output_type": "execute_result"
    }
   ],
   "source": [
    "data['outcome'].unique()"
   ]
  },
  {
   "cell_type": "code",
   "execution_count": 37,
   "metadata": {},
   "outputs": [],
   "source": [
    "def arreglarEtiquetas(x):\n",
    "    if x == 'death' or x == 'died' or x == 'Death':\n",
    "        return 'death'\n",
    "    elif x == 'discharged' or x=='discharge':\n",
    "        return 'discharge'\n",
    "    elif x == 'recovered' or x=='stable':\n",
    "        return 'recovered'\n",
    "    else:\n",
    "        return np.nan #not a number, no generará errores al gráficar"
   ]
  },
  {
   "cell_type": "code",
   "execution_count": 38,
   "metadata": {},
   "outputs": [],
   "source": [
    "def regresarEntero(x):\n",
    "    #Tal vez muchos no lo hayan visto pero igual que en java y otros lenguajes de programación \n",
    "    #Python te permite el manejo de excepciones, que son un tipo de error, donde se intenta un bloque\n",
    "    #de código con try y si eso lleva a una excepción en vez de que generé que pare la ejecución \n",
    "    #puedes redirigir a otro bloque de código\n",
    "    try:\n",
    "        y = int(x) #En caso que la conversión levante una excepción\n",
    "        return y\n",
    "    except:\n",
    "        return np.nan #Dicho valor se reasigna a not a number"
   ]
  },
  {
   "cell_type": "code",
   "execution_count": 39,
   "metadata": {},
   "outputs": [
    {
     "data": {
      "image/png": "[encoded data removed]",
      "text/plain": [
       "<Figure size 1008x360 with 1 Axes>"
      ]
     },
     "metadata": {
      "needs_background": "light"
     },
     "output_type": "display_data"
    }
   ],
   "source": [
    "plt.figure(figsize=(14,5))\n",
    "#Plotearemos son seaborns (sns) las tres posibles resoluciones de los casos, notése que aplicamos las funciones a los datos para poderlos gráficar\n",
    "sns.distplot(data[data['outcome'].apply(arreglarEtiquetas)=='death']['age'].apply(regresarEntero),hist=False,rug=True,label='Muertes')\n",
    "sns.distplot(data[data['outcome'].apply(arreglarEtiquetas)=='discharge']['age'].apply(regresarEntero),hist=False,rug=True,label='Pacientes dados de alta')\n",
    "sns.distplot(data[data['outcome'].apply(arreglarEtiquetas)=='recovered']['age'].apply(regresarEntero),hist=False,rug=True,label='Recuperados')\n",
    "\n",
    "plt.legend()\n",
    "plt.show()"
   ]
  },
  {
   "cell_type": "markdown",
   "metadata": {},
   "source": [
    "\n",
    "*- Apartir de aquí haré cosas muy locochonas que no van a a funcionar pero que espero puedas revisar o tengas una mejor idea -*"
   ]
  },
  {
   "cell_type": "code",
   "execution_count": 40,
   "metadata": {},
   "outputs": [
    {
     "data": {
      "text/html": [
       "<div>\n",
       "<style scoped>\n",
       "    .dataframe tbody tr th:only-of-type {\n",
       "        vertical-align: middle;\n",
       "    }\n",
       "\n",
       "    .dataframe tbody tr th {\n",
       "        vertical-align: top;\n",
       "    }\n",
       "\n",
       "    .dataframe thead th {\n",
       "        text-align: right;\n",
       "    }\n",
       "</style>\n",
       "<table border=\"1\" class=\"dataframe\">\n",
       "  <thead>\n",
       "    <tr style=\"text-align: right;\">\n",
       "      <th></th>\n",
       "      <th>ID</th>\n",
       "      <th>wuhan(0)_not_wuhan(1)</th>\n",
       "      <th>latitude</th>\n",
       "      <th>longitude</th>\n",
       "      <th>chronic_disease_binary</th>\n",
       "    </tr>\n",
       "  </thead>\n",
       "  <tbody>\n",
       "    <tr>\n",
       "      <th>count</th>\n",
       "      <td>13173.000000</td>\n",
       "      <td>13170.0</td>\n",
       "      <td>13147.000000</td>\n",
       "      <td>13147.000000</td>\n",
       "      <td>18.000000</td>\n",
       "    </tr>\n",
       "    <tr>\n",
       "      <th>mean</th>\n",
       "      <td>6769.250436</td>\n",
       "      <td>1.0</td>\n",
       "      <td>31.994650</td>\n",
       "      <td>110.495353</td>\n",
       "      <td>0.722222</td>\n",
       "    </tr>\n",
       "    <tr>\n",
       "      <th>std</th>\n",
       "      <td>3920.886020</td>\n",
       "      <td>0.0</td>\n",
       "      <td>7.536335</td>\n",
       "      <td>27.985144</td>\n",
       "      <td>0.460889</td>\n",
       "    </tr>\n",
       "    <tr>\n",
       "      <th>min</th>\n",
       "      <td>1.000000</td>\n",
       "      <td>1.0</td>\n",
       "      <td>-37.813600</td>\n",
       "      <td>-124.953070</td>\n",
       "      <td>0.000000</td>\n",
       "    </tr>\n",
       "    <tr>\n",
       "      <th>25%</th>\n",
       "      <td>3351.000000</td>\n",
       "      <td>1.0</td>\n",
       "      <td>27.905380</td>\n",
       "      <td>111.729600</td>\n",
       "      <td>0.250000</td>\n",
       "    </tr>\n",
       "    <tr>\n",
       "      <th>50%</th>\n",
       "      <td>6865.000000</td>\n",
       "      <td>1.0</td>\n",
       "      <td>31.759410</td>\n",
       "      <td>115.441800</td>\n",
       "      <td>1.000000</td>\n",
       "    </tr>\n",
       "    <tr>\n",
       "      <th>75%</th>\n",
       "      <td>10180.000000</td>\n",
       "      <td>1.0</td>\n",
       "      <td>35.781340</td>\n",
       "      <td>120.440400</td>\n",
       "      <td>1.000000</td>\n",
       "    </tr>\n",
       "    <tr>\n",
       "      <th>max</th>\n",
       "      <td>13479.000000</td>\n",
       "      <td>1.0</td>\n",
       "      <td>69.649468</td>\n",
       "      <td>153.400000</td>\n",
       "      <td>1.000000</td>\n",
       "    </tr>\n",
       "  </tbody>\n",
       "</table>\n",
       "</div>"
      ],
      "text/plain": [
       "                 ID  wuhan(0)_not_wuhan(1)      latitude     longitude  \\\n",
       "count  13173.000000                13170.0  13147.000000  13147.000000   \n",
       "mean    6769.250436                    1.0     31.994650    110.495353   \n",
       "std     3920.886020                    0.0      7.536335     27.985144   \n",
       "min        1.000000                    1.0    -37.813600   -124.953070   \n",
       "25%     3351.000000                    1.0     27.905380    111.729600   \n",
       "50%     6865.000000                    1.0     31.759410    115.441800   \n",
       "75%    10180.000000                    1.0     35.781340    120.440400   \n",
       "max    13479.000000                    1.0     69.649468    153.400000   \n",
       "\n",
       "       chronic_disease_binary  \n",
       "count               18.000000  \n",
       "mean                 0.722222  \n",
       "std                  0.460889  \n",
       "min                  0.000000  \n",
       "25%                  0.250000  \n",
       "50%                  1.000000  \n",
       "75%                  1.000000  \n",
       "max                  1.000000  "
      ]
     },
     "execution_count": 40,
     "metadata": {},
     "output_type": "execute_result"
    }
   ],
   "source": [
    "# Ahora veamos algunas estadísticas de nuestros datos\n",
    "data.describe()"
   ]
  },
  {
   "cell_type": "code",
   "execution_count": 41,
   "metadata": {},
   "outputs": [
    {
     "data": {
      "image/png": "[encoded data removed]",
      "text/plain": [
       "<Figure size 432x288 with 4 Axes>"
      ]
     },
     "metadata": {
      "needs_background": "light"
     },
     "output_type": "display_data"
    }
   ],
   "source": [
    "#En estas gráficas vemos entre qué valores se concentran la mayoría de registros.\n",
    "# Visualizamos rápidamente las caraterísticas de entrada\n",
    "data.drop(['death'','discharge', 'longitude'],1).hist()\n",
    "plt.show()"
   ]
  },
  {
   "cell_type": "code",
   "execution_count": 48,
   "metadata": {},
   "outputs": [
    {
     "ename": "NameError",
     "evalue": "name 'filtered_data' is not defined",
     "output_type": "error",
     "traceback": [
      "\u001b[1;31m---------------------------------------------------------------------------\u001b[0m",
      "\u001b[1;31mNameError\u001b[0m                                 Traceback (most recent call last)",
      "\u001b[1;32m<ipython-input-48-b3a72fd5c234>\u001b[0m in \u001b[0;36m<module>\u001b[1;34m\u001b[0m\n\u001b[0;32m      1\u001b[0m \u001b[1;31m# Para poder graficar en 3D, haremos una variable nueva que será la suma de los muertos, recuperados y dados de alta\u001b[0m\u001b[1;33m\u001b[0m\u001b[1;33m\u001b[0m\u001b[1;33m\u001b[0m\u001b[0m\n\u001b[1;32m----> 2\u001b[1;33m \u001b[0msuma\u001b[0m \u001b[1;33m=\u001b[0m \u001b[1;33m(\u001b[0m\u001b[0mfiltered_data\u001b[0m\u001b[1;33m[\u001b[0m\u001b[1;34m\"death\"\u001b[0m\u001b[1;33m]\u001b[0m \u001b[1;33m+\u001b[0m \u001b[0mfiltered_data\u001b[0m\u001b[1;33m[\u001b[0m\u001b[1;34m'discharge'\u001b[0m\u001b[1;33m]\u001b[0m\u001b[1;33m.\u001b[0m\u001b[0mfillna\u001b[0m\u001b[1;33m(\u001b[0m\u001b[1;36m0\u001b[0m\u001b[1;33m)\u001b[0m \u001b[1;33m+\u001b[0m \u001b[0mfiltered_data\u001b[0m\u001b[1;33m[\u001b[0m\u001b[1;34m'recovered'\u001b[0m\u001b[1;33m]\u001b[0m\u001b[1;33m)\u001b[0m\u001b[1;33m\u001b[0m\u001b[1;33m\u001b[0m\u001b[0m\n\u001b[0m\u001b[0;32m      3\u001b[0m \u001b[1;33m\u001b[0m\u001b[0m\n\u001b[0;32m      4\u001b[0m \u001b[0mdataX2\u001b[0m \u001b[1;33m=\u001b[0m  \u001b[0mpd\u001b[0m\u001b[1;33m.\u001b[0m\u001b[0mDataFrame\u001b[0m\u001b[1;33m(\u001b[0m\u001b[1;33m)\u001b[0m\u001b[1;33m\u001b[0m\u001b[1;33m\u001b[0m\u001b[0m\n\u001b[0;32m      5\u001b[0m \u001b[0mdataX2\u001b[0m\u001b[1;33m[\u001b[0m\u001b[1;34m\"death\"\u001b[0m\u001b[1;33m]\u001b[0m \u001b[1;33m=\u001b[0m \u001b[0mfiltered_data\u001b[0m\u001b[1;33m[\u001b[0m\u001b[1;34m\"death\"\u001b[0m\u001b[1;33m]\u001b[0m\u001b[1;33m\u001b[0m\u001b[1;33m\u001b[0m\u001b[0m\n",
      "\u001b[1;31mNameError\u001b[0m: name 'filtered_data' is not defined"
     ]
    }
   ],
   "source": [
    "\n",
    "# Para poder graficar en 3D, haremos una variable nueva que será la suma de los muertos, recuperados y dados de alta\n",
    "suma = (filtered_data[\"death\"] + filtered_data['discharge'].fillna(0) + filtered_data['recovered'])\n",
    " \n",
    "dataX2 =  pd.DataFrame()\n",
    "dataX2[\"death\"] = filtered_data[\"death\"]\n",
    "dataX2[\"suma\"] = suma\n",
    "XY_train = np.array(dataX2)\n",
    "z_train = filtered_data['discharge'].values"
   ]
  },
  {
   "cell_type": "code",
   "execution_count": 43,
   "metadata": {},
   "outputs": [
    {
     "ename": "NameError",
     "evalue": "name 'linear_model' is not defined",
     "output_type": "error",
     "traceback": [
      "\u001b[1;31m---------------------------------------------------------------------------\u001b[0m",
      "\u001b[1;31mNameError\u001b[0m                                 Traceback (most recent call last)",
      "\u001b[1;32m<ipython-input-43-f4c77b38e9b6>\u001b[0m in \u001b[0;36m<module>\u001b[1;34m\u001b[0m\n\u001b[0;32m      1\u001b[0m \u001b[1;31m# Creamos un nuevo objeto de Regresión Lineal\u001b[0m\u001b[1;33m\u001b[0m\u001b[1;33m\u001b[0m\u001b[1;33m\u001b[0m\u001b[0m\n\u001b[1;32m----> 2\u001b[1;33m \u001b[0mregr2\u001b[0m \u001b[1;33m=\u001b[0m \u001b[0mlinear_model\u001b[0m\u001b[1;33m.\u001b[0m\u001b[0mLinearRegression\u001b[0m\u001b[1;33m(\u001b[0m\u001b[1;33m)\u001b[0m\u001b[1;33m\u001b[0m\u001b[1;33m\u001b[0m\u001b[0m\n\u001b[0m\u001b[0;32m      3\u001b[0m \u001b[1;33m\u001b[0m\u001b[0m\n\u001b[0;32m      4\u001b[0m \u001b[1;31m# Entrenamos el modelo, esta vez, con 2 dimensiones\u001b[0m\u001b[1;33m\u001b[0m\u001b[1;33m\u001b[0m\u001b[1;33m\u001b[0m\u001b[0m\n\u001b[0;32m      5\u001b[0m \u001b[1;31m# obtendremos 2 coeficientes, para graficar un plano\u001b[0m\u001b[1;33m\u001b[0m\u001b[1;33m\u001b[0m\u001b[1;33m\u001b[0m\u001b[0m\n",
      "\u001b[1;31mNameError\u001b[0m: name 'linear_model' is not defined"
     ]
    }
   ],
   "source": [
    "\n",
    "# Creamos un nuevo objeto de Regresión Lineal\n",
    "regr2 = linear_model.LinearRegression()\n",
    " \n",
    "# Entrenamos el modelo, esta vez, con 2 dimensiones\n",
    "# obtendremos 2 coeficientes, para graficar un plano\n",
    "regr2.fit(XY_train, z_train)\n",
    " \n",
    "# Hacemos la predicción con la que tendremos puntos sobre el plano hallado\n",
    "z_pred = regr2.predict(XY_train)\n",
    " \n",
    "# Los coeficientes\n",
    "print('Coefficients: \\n', regr2.coef_)\n",
    "# Error cuadrático medio\n",
    "print(\"Mean squared error: %.2f\" % mean_squared_error(z_train, z_pred))\n",
    "# Evaluamos el puntaje de varianza (siendo 1.0 el mejor posible)\n",
    "print('Variance score: %.2f' % r2_score(z_train, z_pred))"
   ]
  },
  {
   "cell_type": "code",
   "execution_count": 44,
   "metadata": {},
   "outputs": [
    {
     "ename": "SyntaxError",
     "evalue": "EOL while scanning string literal (<ipython-input-44-c431d66ceabf>, line 27)",
     "output_type": "error",
     "traceback": [
      "\u001b[1;36m  File \u001b[1;32m\"<ipython-input-44-c431d66ceabf>\"\u001b[1;36m, line \u001b[1;32m27\u001b[0m\n\u001b[1;33m    ax.set_ylabel('Cantidad de recuperados)\u001b[0m\n\u001b[1;37m                                           ^\u001b[0m\n\u001b[1;31mSyntaxError\u001b[0m\u001b[1;31m:\u001b[0m EOL while scanning string literal\n"
     ]
    }
   ],
   "source": [
    "\n",
    "fig = plt.figure()\n",
    "ax = Axes3D(fig)\n",
    " \n",
    "# Creamos una malla, sobre la cual graficaremos el plano\n",
    "xx, yy = np.meshgrid(np.linspace(0, 3500, num=10), np.linspace(0, 60, num=10))\n",
    " \n",
    "# calculamos los valores del plano para los puntos x e y\n",
    "nuevoX = (regr2.coef_[0] * xx)\n",
    "nuevoY = (regr2.coef_[1] * yy) \n",
    " \n",
    "# calculamos los correspondientes valores para z. Debemos sumar el punto de intercepción\n",
    "z = (nuevoX + nuevoY + regr2.intercept_)\n",
    " \n",
    "# Graficamos el plano\n",
    "ax.plot_surface(xx, yy, z, alpha=0.2, cmap='hot')\n",
    " \n",
    "# Graficamos en azul los puntos en 3D\n",
    "ax.scatter(XY_train[:, 0], XY_train[:, 1], z_train, c='blue',s=30)\n",
    " \n",
    "# Graficamos en rojo, los puntos que \n",
    "ax.scatter(XY_train[:, 0], XY_train[:, 1], z_pred, c='red',s=40)\n",
    " \n",
    "# con esto situamos la \"camara\" con la que visualizamos\n",
    "ax.view_init(elev=30., azim=65)\n",
    "        \n",
    "ax.set_xlabel('Cantidad de muertos')\n",
    "ax.set_ylabel('Cantidad de recuperados)\n",
    "ax.set_zlabel('Cantidad de dados de alta')\n",
    "ax.set_title('Regresión Lineal con Múltiples Variables')"
   ]
  },
  {
   "cell_type": "code",
   "execution_count": 50,
   "metadata": {},
   "outputs": [
    {
     "ename": "NameError",
     "evalue": "name 'regr2' is not defined",
     "output_type": "error",
     "traceback": [
      "\u001b[1;31m---------------------------------------------------------------------------\u001b[0m",
      "\u001b[1;31mNameError\u001b[0m                                 Traceback (most recent call last)",
      "\u001b[1;32m<ipython-input-50-0ebac93f9de1>\u001b[0m in \u001b[0;36m<module>\u001b[1;34m\u001b[0m\n\u001b[0;32m      3\u001b[0m \u001b[1;31m# según nuestro modelo, hacemos:\u001b[0m\u001b[1;33m\u001b[0m\u001b[1;33m\u001b[0m\u001b[1;33m\u001b[0m\u001b[0m\n\u001b[0;32m      4\u001b[0m \u001b[1;33m\u001b[0m\u001b[0m\n\u001b[1;32m----> 5\u001b[1;33m \u001b[0mz_Dosmil\u001b[0m \u001b[1;33m=\u001b[0m \u001b[0mregr2\u001b[0m\u001b[1;33m.\u001b[0m\u001b[0mpredict\u001b[0m\u001b[1;33m(\u001b[0m\u001b[1;33m[\u001b[0m\u001b[1;33m[\u001b[0m\u001b[1;36m2000\u001b[0m\u001b[1;33m,\u001b[0m \u001b[1;36m10\u001b[0m\u001b[1;33m]\u001b[0m\u001b[1;33m]\u001b[0m\u001b[1;33m)\u001b[0m\u001b[1;33m\u001b[0m\u001b[1;33m\u001b[0m\u001b[0m\n\u001b[0m\u001b[0;32m      6\u001b[0m \u001b[0mprint\u001b[0m\u001b[1;33m(\u001b[0m\u001b[0mint\u001b[0m\u001b[1;33m(\u001b[0m\u001b[0mz_Dosmil\u001b[0m\u001b[1;33m)\u001b[0m\u001b[1;33m)\u001b[0m\u001b[1;33m\u001b[0m\u001b[1;33m\u001b[0m\u001b[0m\n",
      "\u001b[1;31mNameError\u001b[0m: name 'regr2' is not defined"
     ]
    }
   ],
   "source": [
    "\n",
    "# Si quiero predecir cuántos recuperados voy a obtener con: \n",
    "# 2000 dados de alta y con muertos 10\n",
    "# según nuestro modelo, hacemos:\n",
    " \n",
    "z_Dosmil = regr2.predict([[2000, 10]])\n",
    "print(int(z_Dosmil))"
   ]
  },
  {
   "cell_type": "markdown",
   "metadata": {},
   "source": [
    "\n",
    "Checa esta pagina \n",
    "\n",
    "\n",
    "https://www.aprendemachinelearning.com/regresion-lineal-en-espanol-con-python/\n"
   ]
  },
  {
   "cell_type": "code",
   "execution_count": null,
   "metadata": {},
   "outputs": [],
   "source": []
  }
 ],
 "metadata": {
  "kernelspec": {
   "display_name": "Python 3",
   "language": "python",
   "name": "python3"
  },
  "language_info": {
   "codemirror_mode": {
    "name": "ipython",
    "version": 3
   },
   "file_extension": ".py",
   "mimetype": "text/x-python",
   "name": "python",
   "nbconvert_exporter": "python",
   "pygments_lexer": "ipython3",
   "version": "3.7.6"
  }
 },
 "nbformat": 4,
 "nbformat_minor": 4
}
