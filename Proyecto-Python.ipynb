{
 "cells": [
  {
   "cell_type": "code",
   "execution_count": 1,
   "metadata": {},
   "outputs": [],
   "source": [
    "import numpy as np\n",
    "import pandas as pd\n",
    "import re\n",
    "import seaborn as sns\n",
    "import matplotlib.pyplot as plt\n",
    "%matplotlib inline\n",
    "import random\n",
    "\n",
    "from sklearn import tree\n",
    "from sklearn.metrics import accuracy_score\n",
    "from sklearn.model_selection import KFold\n",
    "from sklearn.model_selection import cross_val_score\n",
    "from IPython.display import Image as PImage\n",
    "from subprocess import check_call\n",
    "from PIL import Image, ImageDraw, ImageFont\n",
    "#Módulos utilizados"
   ]
  },
  {
   "cell_type": "markdown",
   "metadata": {},
   "source": [
    "# Cargando los datos"
   ]
  },
  {
   "cell_type": "code",
   "execution_count": 2,
   "metadata": {},
   "outputs": [
    {
     "data": {
      "text/html": [
       "<div>\n",
       "<style scoped>\n",
       "    .dataframe tbody tr th:only-of-type {\n",
       "        vertical-align: middle;\n",
       "    }\n",
       "\n",
       "    .dataframe tbody tr th {\n",
       "        vertical-align: top;\n",
       "    }\n",
       "\n",
       "    .dataframe thead th {\n",
       "        text-align: right;\n",
       "    }\n",
       "</style>\n",
       "<table border=\"1\" class=\"dataframe\">\n",
       "  <thead>\n",
       "    <tr style=\"text-align: right;\">\n",
       "      <th></th>\n",
       "      <th>ID</th>\n",
       "      <th>age</th>\n",
       "      <th>sex</th>\n",
       "      <th>city</th>\n",
       "      <th>province</th>\n",
       "      <th>country</th>\n",
       "      <th>wuhan(0)_not_wuhan(1)</th>\n",
       "      <th>latitude</th>\n",
       "      <th>longitude</th>\n",
       "      <th>geo_resolution</th>\n",
       "      <th>...</th>\n",
       "      <th>outcome</th>\n",
       "      <th>date_death_or_discharge</th>\n",
       "      <th>notes_for_discussion</th>\n",
       "      <th>location</th>\n",
       "      <th>admin3</th>\n",
       "      <th>admin2</th>\n",
       "      <th>admin1</th>\n",
       "      <th>country_new</th>\n",
       "      <th>admin_id</th>\n",
       "      <th>data_moderator_initials</th>\n",
       "    </tr>\n",
       "  </thead>\n",
       "  <tbody>\n",
       "    <tr>\n",
       "      <th>0</th>\n",
       "      <td>1.0</td>\n",
       "      <td>30</td>\n",
       "      <td>male</td>\n",
       "      <td>Chaohu City, Hefei City</td>\n",
       "      <td>Anhui</td>\n",
       "      <td>China</td>\n",
       "      <td>1.0</td>\n",
       "      <td>31.646960</td>\n",
       "      <td>117.716600</td>\n",
       "      <td>admin3</td>\n",
       "      <td>...</td>\n",
       "      <td>NaN</td>\n",
       "      <td>NaN</td>\n",
       "      <td>NaN</td>\n",
       "      <td>NaN</td>\n",
       "      <td>Chaohu City</td>\n",
       "      <td>Hefei City</td>\n",
       "      <td>Anhui</td>\n",
       "      <td>China</td>\n",
       "      <td>340181</td>\n",
       "      <td>NaN</td>\n",
       "    </tr>\n",
       "    <tr>\n",
       "      <th>1</th>\n",
       "      <td>2.0</td>\n",
       "      <td>47</td>\n",
       "      <td>male</td>\n",
       "      <td>Baohe District, Hefei City</td>\n",
       "      <td>Anhui</td>\n",
       "      <td>China</td>\n",
       "      <td>1.0</td>\n",
       "      <td>31.778630</td>\n",
       "      <td>117.331900</td>\n",
       "      <td>admin3</td>\n",
       "      <td>...</td>\n",
       "      <td>NaN</td>\n",
       "      <td>NaN</td>\n",
       "      <td>NaN</td>\n",
       "      <td>NaN</td>\n",
       "      <td>Baohe District</td>\n",
       "      <td>Hefei City</td>\n",
       "      <td>Anhui</td>\n",
       "      <td>China</td>\n",
       "      <td>340111</td>\n",
       "      <td>NaN</td>\n",
       "    </tr>\n",
       "    <tr>\n",
       "      <th>2</th>\n",
       "      <td>3.0</td>\n",
       "      <td>49</td>\n",
       "      <td>male</td>\n",
       "      <td>High-Tech Zone, Hefei City</td>\n",
       "      <td>Anhui</td>\n",
       "      <td>China</td>\n",
       "      <td>1.0</td>\n",
       "      <td>31.828313</td>\n",
       "      <td>117.224844</td>\n",
       "      <td>point</td>\n",
       "      <td>...</td>\n",
       "      <td>NaN</td>\n",
       "      <td>NaN</td>\n",
       "      <td>NaN</td>\n",
       "      <td>High-Tech Zone</td>\n",
       "      <td>Shushan District</td>\n",
       "      <td>Hefei City</td>\n",
       "      <td>Anhui</td>\n",
       "      <td>China</td>\n",
       "      <td>340104</td>\n",
       "      <td>NaN</td>\n",
       "    </tr>\n",
       "    <tr>\n",
       "      <th>3</th>\n",
       "      <td>4.0</td>\n",
       "      <td>47</td>\n",
       "      <td>female</td>\n",
       "      <td>High-Tech Zone, Hefei City</td>\n",
       "      <td>Anhui</td>\n",
       "      <td>China</td>\n",
       "      <td>1.0</td>\n",
       "      <td>31.828313</td>\n",
       "      <td>117.224844</td>\n",
       "      <td>point</td>\n",
       "      <td>...</td>\n",
       "      <td>NaN</td>\n",
       "      <td>NaN</td>\n",
       "      <td>NaN</td>\n",
       "      <td>High-Tech Zone</td>\n",
       "      <td>Shushan District</td>\n",
       "      <td>Hefei City</td>\n",
       "      <td>Anhui</td>\n",
       "      <td>China</td>\n",
       "      <td>340104</td>\n",
       "      <td>NaN</td>\n",
       "    </tr>\n",
       "    <tr>\n",
       "      <th>4</th>\n",
       "      <td>5.0</td>\n",
       "      <td>50</td>\n",
       "      <td>female</td>\n",
       "      <td>Feidong County, Hefei City</td>\n",
       "      <td>Anhui</td>\n",
       "      <td>China</td>\n",
       "      <td>1.0</td>\n",
       "      <td>32.001230</td>\n",
       "      <td>117.568100</td>\n",
       "      <td>admin3</td>\n",
       "      <td>...</td>\n",
       "      <td>NaN</td>\n",
       "      <td>NaN</td>\n",
       "      <td>NaN</td>\n",
       "      <td>NaN</td>\n",
       "      <td>Feidong County</td>\n",
       "      <td>Hefei City</td>\n",
       "      <td>Anhui</td>\n",
       "      <td>China</td>\n",
       "      <td>340122</td>\n",
       "      <td>NaN</td>\n",
       "    </tr>\n",
       "  </tbody>\n",
       "</table>\n",
       "<p>5 rows × 33 columns</p>\n",
       "</div>"
      ],
      "text/plain": [
       "    ID age     sex                        city province country  \\\n",
       "0  1.0  30    male     Chaohu City, Hefei City    Anhui   China   \n",
       "1  2.0  47    male  Baohe District, Hefei City    Anhui   China   \n",
       "2  3.0  49    male  High-Tech Zone, Hefei City    Anhui   China   \n",
       "3  4.0  47  female  High-Tech Zone, Hefei City    Anhui   China   \n",
       "4  5.0  50  female  Feidong County, Hefei City    Anhui   China   \n",
       "\n",
       "   wuhan(0)_not_wuhan(1)   latitude   longitude geo_resolution  ... outcome  \\\n",
       "0                    1.0  31.646960  117.716600         admin3  ...     NaN   \n",
       "1                    1.0  31.778630  117.331900         admin3  ...     NaN   \n",
       "2                    1.0  31.828313  117.224844          point  ...     NaN   \n",
       "3                    1.0  31.828313  117.224844          point  ...     NaN   \n",
       "4                    1.0  32.001230  117.568100         admin3  ...     NaN   \n",
       "\n",
       "  date_death_or_discharge notes_for_discussion        location  \\\n",
       "0                     NaN                  NaN             NaN   \n",
       "1                     NaN                  NaN             NaN   \n",
       "2                     NaN                  NaN  High-Tech Zone   \n",
       "3                     NaN                  NaN  High-Tech Zone   \n",
       "4                     NaN                  NaN             NaN   \n",
       "\n",
       "             admin3      admin2 admin1 country_new admin_id  \\\n",
       "0       Chaohu City  Hefei City  Anhui       China   340181   \n",
       "1    Baohe District  Hefei City  Anhui       China   340111   \n",
       "2  Shushan District  Hefei City  Anhui       China   340104   \n",
       "3  Shushan District  Hefei City  Anhui       China   340104   \n",
       "4    Feidong County  Hefei City  Anhui       China   340122   \n",
       "\n",
       "   data_moderator_initials  \n",
       "0                      NaN  \n",
       "1                      NaN  \n",
       "2                      NaN  \n",
       "3                      NaN  \n",
       "4                      NaN  \n",
       "\n",
       "[5 rows x 33 columns]"
      ]
     },
     "execution_count": 2,
     "metadata": {},
     "output_type": "execute_result"
    }
   ],
   "source": [
    "# Se cargan los datos de train y de test\n",
    "train = pd.read_csv('COVID19_open_line_list.csv')\n",
    "test = pd.read_csv('COVID19_open_line_list.csv')\n",
    "\n",
    "#Se eliminan columnas que no contienen nada\n",
    "train.drop(['Unnamed: '+str(x) for x in range(33,45)],axis=1,inplace=True)\n",
    "test.drop(['Unnamed: '+str(x) for x in range(33,45)],axis=1,inplace=True)\n",
    "train.head()"
   ]
  },
  {
   "cell_type": "code",
   "execution_count": 3,
   "metadata": {},
   "outputs": [
    {
     "data": {
      "text/plain": [
       "['ID',\n",
       " 'age',\n",
       " 'sex',\n",
       " 'city',\n",
       " 'province',\n",
       " 'country',\n",
       " 'wuhan(0)_not_wuhan(1)',\n",
       " 'latitude',\n",
       " 'longitude',\n",
       " 'geo_resolution',\n",
       " 'date_onset_symptoms',\n",
       " 'date_admission_hospital',\n",
       " 'date_confirmation',\n",
       " 'symptoms',\n",
       " 'lives_in_Wuhan',\n",
       " 'travel_history_dates',\n",
       " 'travel_history_location',\n",
       " 'reported_market_exposure',\n",
       " 'additional_information',\n",
       " 'chronic_disease_binary',\n",
       " 'chronic_disease',\n",
       " 'source',\n",
       " 'sequence_available',\n",
       " 'outcome',\n",
       " 'date_death_or_discharge',\n",
       " 'notes_for_discussion',\n",
       " 'location',\n",
       " 'admin3',\n",
       " 'admin2',\n",
       " 'admin1',\n",
       " 'country_new',\n",
       " 'admin_id',\n",
       " 'data_moderator_initials']"
      ]
     },
     "execution_count": 3,
     "metadata": {},
     "output_type": "execute_result"
    }
   ],
   "source": [
    "#Se enlistan todas las columnas del dataset para saber cuáles son útiles en una predicción\n",
    "list(train.columns.values)"
   ]
  },
  {
   "cell_type": "code",
   "execution_count": 4,
   "metadata": {},
   "outputs": [],
   "source": [
    "original_train = train.copy() # Clonar el dataset para no modificar el original.\n",
    "full_data = [train, test] # Utilizando full_data se modificará el set de train y de test."
   ]
  },
  {
   "cell_type": "markdown",
   "metadata": {},
   "source": [
    "# Modificando el dataset\n",
    "Se debe de modificar el dataset para que los datos que se tengan puedan ser usados. Las columnas que sí se usarán para el árbol de decisión son edad, sexo, síntomas, enfermedad crónica y desenlace."
   ]
  },
  {
   "cell_type": "markdown",
   "metadata": {},
   "source": [
    "### Edad"
   ]
  },
  {
   "cell_type": "code",
   "execution_count": 5,
   "metadata": {
    "scrolled": true
   },
   "outputs": [
    {
     "data": {
      "text/plain": [
       "array(['30', '47', '49', '50', nan, '42', '59', '39', '38', '45', '33',\n",
       "       '37', '32', '18', '56', '44', '65', '21', '41', '70', '43', '31',\n",
       "       '24', '40', '66', '36', '10', '63', '78', '76', '48', '62', '46',\n",
       "       '34', '72', '20', '54', '2', '29', '61', '51', '80', '69', '28',\n",
       "       '55', '68', '57', '35', '27', '52', '22', '23', '88', '19', '60',\n",
       "       '58', '53', '25', '36-45', '26', '64', '30-39', '11', '50-59',\n",
       "       '73', '74', '7', '82', '67', '15', '16', '60-69', '40-49', '80-89',\n",
       "       '27-40', '5', '3', '4', '71', '20-29', '77', '75', '16-80', '94',\n",
       "       '38-68', '23-72', '81', '0.58333', '17', 'Belgium', '8', '9',\n",
       "       '0.08333', '12', '0.5', '83', '84', '60-60', '1', '79', '87',\n",
       "       '22-80', '19-77', '8-68', '21-72', '40-89', '0.25', '13-19',\n",
       "       '70-79', '80-80', '0-6', '0-10', '10-19', '96', '1.75', '18-65',\n",
       "       '0-18'], dtype=object)"
      ]
     },
     "execution_count": 5,
     "metadata": {},
     "output_type": "execute_result"
    }
   ],
   "source": [
    "train['age'].unique() # Se enlistan todas las edad que se mencionan"
   ]
  },
  {
   "cell_type": "code",
   "execution_count": 6,
   "metadata": {},
   "outputs": [],
   "source": [
    "# Función que convierte a entero o si no se puede convierte a nan.\n",
    "def regresarEntero(x):\n",
    "    try:\n",
    "        y = int(x)\n",
    "        return y\n",
    "    except:\n",
    "        return np.nan\n",
    "\n",
    "# Se reemplazan a los nulls por edades utilizand la media y el std.\n",
    "for dataset in full_data:\n",
    "    age_avg = dataset['age'].apply(regresarEntero).mean()\n",
    "    age_std = dataset['age'].apply(regresarEntero).std()\n",
    "    age_null_count = dataset['age'].apply(regresarEntero).isnull().sum()\n",
    "    age_null_random_list = np.random.randint(age_avg - age_std, age_avg + age_std, size=age_null_count)\n",
    "    dataset.loc[np.isnan(dataset['age'].apply(regresarEntero)), 'age'] = age_null_random_list\n",
    "    dataset['age'] = dataset['age'].astype(int)"
   ]
  },
  {
   "cell_type": "code",
   "execution_count": 7,
   "metadata": {
    "scrolled": true
   },
   "outputs": [
    {
     "data": {
      "text/plain": [
       "array([30, 47, 49, 50, 54, 42, 31, 59, 39, 28, 38, 45, 41, 33, 32, 37, 18,\n",
       "       56, 35, 51, 27, 46, 44, 65, 21, 29, 43, 53, 34, 70, 36, 57, 24, 40,\n",
       "       48, 66, 10, 63, 58, 78, 76, 62, 72, 20,  2, 61, 80, 69, 55, 68, 52,\n",
       "       22, 23, 88, 19, 60, 25, 26, 64, 11, 73, 74,  7, 82, 67, 15, 16,  5,\n",
       "        3,  4, 71, 77, 75, 94, 81, 17,  8,  9, 12, 83, 84,  1, 79, 87, 96])"
      ]
     },
     "execution_count": 7,
     "metadata": {},
     "output_type": "execute_result"
    }
   ],
   "source": [
    "train['age'].unique() # Se muestran los nuevos valores para 'age'"
   ]
  },
  {
   "cell_type": "markdown",
   "metadata": {},
   "source": [
    "### Sexo"
   ]
  },
  {
   "cell_type": "code",
   "execution_count": 8,
   "metadata": {
    "scrolled": false
   },
   "outputs": [
    {
     "data": {
      "text/plain": [
       "array(['male', 'female', nan, '4000', 'Female', 'Male'], dtype=object)"
      ]
     },
     "execution_count": 8,
     "metadata": {},
     "output_type": "execute_result"
    }
   ],
   "source": [
    "train['sex'].unique() # Se enlistan los valores de 'sex'"
   ]
  },
  {
   "cell_type": "code",
   "execution_count": 9,
   "metadata": {},
   "outputs": [],
   "source": [
    "# Se unifican los valores de 'male' y 'female'. Se crea una categoría para los nan.\n",
    "for dataset in full_data:\n",
    "    dataset['sex'] = dataset['sex'].replace(['Female', '4000'], 'female')\n",
    "    dataset['sex'] = dataset['sex'].replace('Male', 'male')\n",
    "    dataset['sex'] = dataset['sex'].fillna('Non-specified')\n",
    "    dataset['sex'] = dataset['sex'].astype(str)"
   ]
  },
  {
   "cell_type": "code",
   "execution_count": 10,
   "metadata": {},
   "outputs": [
    {
     "data": {
      "text/plain": [
       "array(['male', 'female', 'Non-specified'], dtype=object)"
      ]
     },
     "execution_count": 10,
     "metadata": {},
     "output_type": "execute_result"
    }
   ],
   "source": [
    "train['sex'].unique() # Se enlistan las nuevas categorías."
   ]
  },
  {
   "cell_type": "markdown",
   "metadata": {},
   "source": [
    "### Síntomas"
   ]
  },
  {
   "cell_type": "code",
   "execution_count": 11,
   "metadata": {
    "scrolled": false
   },
   "outputs": [
    {
     "data": {
      "text/plain": [
       "array([nan, 'pneumonia', 'fever', 'cough', 'fatigue, fever, headache',\n",
       "       'respiratory symptoms', 'fever, respiratory symptoms',\n",
       "       'fatigue, fever', 'discomfort, fever',\n",
       "       'cough, fever, headache, muscular soreness, weak',\n",
       "       'cough, dizziness', 'cough, fatigue, fever, weakness',\n",
       "       'cough, fever, weakness',\n",
       "       'cough, diarrhea, fever, rhinorrhoea, sneezing',\n",
       "       'anhelation, cough, fever, pleural effusion, weakness',\n",
       "       'diarrhea, fever, nasal congestion, pleuritic chest pain, sore throat',\n",
       "       'cough, fever', 'fever, weak', 'cough, fever, muscular soreness',\n",
       "       'chest distress, cough, expectoration, muscular soreness',\n",
       "       'cough, headache', 'fever, sneeze', 'discomfort',\n",
       "       'cough, muscular stiffness, weak', 'chest distress, dyspnea',\n",
       "       'cough, expectoration, fever', 'cough, fatigue, fever, sputum',\n",
       "       'chest tightness, dyspnea, fever', 'cough, fever, soreness',\n",
       "       'pharynx', 'muscular soreness', 'cough, sore throat',\n",
       "       'fatigue, fever, weakness', 'cough, fever, runny nose',\n",
       "       'fever, headache', 'cough, dyspnea, fever',\n",
       "       'chills, fever, muscle aches, other symptoms',\n",
       "       'fatigue, muscle aches, sore throat',\n",
       "       'fever, sore muscle, weakness',\n",
       "       'systemic weakness, runny nose, fever', 'fever, sore throat',\n",
       "       'fever, muscular soreness, rigor',\n",
       "       'chills, diarrhea, dyspnea, headache, lack of energy, muscle pain',\n",
       "       'cough, fatigue, fever', 'fever, pharyngalgia', 'pneumonitis',\n",
       "       'cough, discomfort, fever, other symptoms', 'flu-like symptoms',\n",
       "       'chills, cough, fatigue, fever',\n",
       "       'chills, conjunctivitis, cough, fever',\n",
       "       'fever, pneumonia, sore throat', 'cough, fever, sore throat',\n",
       "       'asymptomatic', 'cough, fever, shortness of breath',\n",
       "       'cough, fever, shortness breath',\n",
       "       'chills, fever, headache, sore throat',\n",
       "       'coughing, fever, muscle aches', 'cough, fever, nausea',\n",
       "       'cough, fever, myalgia', 'chills, fever',\n",
       "       'fever, joint pain, pneumonia', 'fever; fatigue; dry cough',\n",
       "       'dizziness, sore limbs', 'fever, runny nose',\n",
       "       'cough, fever, myalgia, rhinorrhea, sore throat',\n",
       "       'chills, fever, myalgias, sore throat',\n",
       "       'aching muscles, fever, pneumonia', 'dry cough',\n",
       "       'chills, cough, joint pain', 'cough, fever, pneumonia',\n",
       "       'myalgia, rhinorrhea', 'acute respiratory viral infection, fever',\n",
       "       'cough, dyspnea', 'fever, pharyngeal discomfort',\n",
       "       'chills, headache, fever', 'fever, sore throat, sputum',\n",
       "       'physical discomfort', 'weakness', 'fever; cough',\n",
       "       'chest tightness, fever, nausea', 'cough, fever, muscle ache',\n",
       "       'cough, runny nose', 'runny nose', 'cough, fever, sputum',\n",
       "       'cough, sputum', 'cough, sore throat, sputum', 'chills, fatigue',\n",
       "       'fever; dry cough; fatigue', 'lesions on chest radiographs',\n",
       "       'chest tightness', 'no symptoms', 'cough, diarrhoea, runny nose',\n",
       "       'cough, fever, eventually showed acute left heart failure and acute coronary syndrome',\n",
       "       'cough, high fever, myalgia', 'fever, myalgia', 'fatigue',\n",
       "       'fever;sore throat; fatigue; diarrhea', 'fever; fatigue',\n",
       "       'fever; sore throat;fatigue;vomiting', 'chest tightness, fever',\n",
       "       'fever, joint pain, muscle soreness',\n",
       "       'chest pain, nasal congestion', 'cough, muscle soreness, sweating',\n",
       "       'fever, myalgia, shortness of breath',\n",
       "       'cough, fever, pneumonia, respiratory distress',\n",
       "       'chills, fever, runny nose, sore throat, wheezing',\n",
       "       'cough, respiratory problems', 'nausea, vomiting',\n",
       "       'fever, full body slump', 'fever, cough',\n",
       "       'fever, dry throat, sore throat', 'fever; runny nose',\n",
       "       'dry throat; sore throat; fatigue', 'headache; dry mouth',\n",
       "       'fever; dry mouth; throat discomfort', 'pharyngeal discomfort',\n",
       "       'diarrhea', 'cough; throat discomfort', 'Pharyngeal dryness',\n",
       "       'cough; sputum; fever', 'dry throat; dry cough',\n",
       "       'chest pain, cough', 'cough, chest tightness, dry mouth',\n",
       "       'fever; cough; fatigue; nausea', 'cough, diarrheoa, vomiting',\n",
       "       'chills, cough, fever', 'fever, severe pneumonia',\n",
       "       'eye irritation, fever', 'dyspnea, fever',\n",
       "       'cough, difficulty breathing, fever',\n",
       "       'fever, headache, runny nose', 'transient fatigue',\n",
       "       'fever (38 ° C)', '37.1 ° C, mild coughing',\n",
       "       'abdominal pain, pulmonary inflammation', 'Sore throat',\n",
       "       'feeling ill, coughing', 'anorexia, fatigue',\n",
       "       'abdominal pain, diarrhea, fever, general malaise',\n",
       "       'cough, fever, malaise', 'poor physical condition',\n",
       "       'cough, shortness of breath', 'yes', 'fever 38.3',\n",
       "       'fever (39.5 ℃)', 'fever 37.7℃', 'fever 37.5℃', 'anorexia',\n",
       "       'nausea, cough, pneumonia, fever', 'fever 38.2 ℃, cough',\n",
       "       'fever 37 C', 'malaise, headache',\n",
       "       'fever (37 ℃), breathing difficulty',\n",
       "       'fever (37.5 ℃, then 38 ℃), cough, malaise',\n",
       "       'sore throat, Cough, fever (37 ℃)', 'difficulty breathing',\n",
       "       'fever, shortness of breath, pneumonia', 'severe dyspnea',\n",
       "       'nausea', 'chest tightness; fatigue', 'cough; fever',\n",
       "       'fever; nasal congestion; runny nose; sore throat; cough',\n",
       "       'fever 39.3', 'fever 38',\n",
       "       'no respiratory symptoms, esophageal reflux',\n",
       "       'cough; sore body; cold', 'acute pharyngitis', 'sore throat',\n",
       "       'fever, sore throat, mild cough', 'low fever 37.0 ℃',\n",
       "       'low fever (37.4 ℃)', 'low fever (37.2 ° C); cough',\n",
       "       'fever (39.5 ℃), malaise', 'sore throat; fever, nasal discharge',\n",
       "       'fever (37.4 ° C), pneumonia', 'fever (37.8 ℃), cough',\n",
       "       'fever (38-39 ° C), malaise',\n",
       "       'fever 38.1 ℃ Cough, malaise, anorexia',\n",
       "       'Discharge, cough, sore throat, chest pain',\n",
       "       'fever, cough, phlegm, dyspnea', 'fever, cough, phlegm',\n",
       "       'fever 37.8 ℃ , sore throat', 'rever, cough',\n",
       "       'fever 37.1 ℃ , couh', 'fever 38.3 ℃ , cough',\n",
       "       'malaise, fever (37 ℃); headache, toothache, pneumonia',\n",
       "       'Sore throat, chills', 'fever 37.5 , headache, malaise',\n",
       "       'Fever, cough, headache', 'fever 37.2', 'cough, malaise',\n",
       "       'sore throat, fever (38-39 ℃)', 'fatigue, fever (38 ℃)',\n",
       "       'fever (38.3 ℃)', 'vomiting, cough, fever (38.2 ℃), sore throat',\n",
       "       'fever (39 ° C), joint pain', 'fever (37.4 ℃), cough',\n",
       "       'fever (40.3 ℃), Headache, malaise, joint pain',\n",
       "       'fever (39.9 ℃), cough', 'fever (39.3 ℃), cough',\n",
       "       'cough, fever (38.3 ℃), joint pain', 'Cough, fever (38 ℃)',\n",
       "       'Fever (37.4 ° C), malaise, sore throa', 'Fever (38 ° C)',\n",
       "       'Fever (38.1 ° C), cough, headache.', 'no serious symptoms',\n",
       "       'similar to a respiratory infection', 'mild',\n",
       "       'chills, headache, fatigue', 'cough, phlegm, fever 37 degrees',\n",
       "       'fever 39.0 ℃', 'fever (38.0 ℃), Fatigue, difficulty walking',\n",
       "       'fever (38.0 ℃)', 'chills,  fever (38 ℃), malaise',\n",
       "       'Sputum, cough symptoms, fever (37 ℃), cough, breathing difficulty',\n",
       "       'fever (37.0 ℃), fever (38.7 ℃)', 'fever (37.5 ℃ ～ 38.0 ℃)',\n",
       "       'fever and cough'], dtype=object)"
      ]
     },
     "execution_count": 11,
     "metadata": {},
     "output_type": "execute_result"
    }
   ],
   "source": [
    "train['symptoms'].unique() # Se enlistan todos los síntomas que están en la bd."
   ]
  },
  {
   "cell_type": "code",
   "execution_count": 12,
   "metadata": {},
   "outputs": [
    {
     "data": {
      "text/plain": [
       "array(['others', 'fever', 'cough', 'fever and cough', 'asymptomatic'],\n",
       "      dtype=object)"
      ]
     },
     "execution_count": 12,
     "metadata": {},
     "output_type": "execute_result"
    }
   ],
   "source": [
    "# Función que asigna una categoría a los síntomas dependiendo de sus substrings\n",
    "def arreglar_sintomas(y):\n",
    "    y = str(y)\n",
    "    # Cuando hay fiebre y tos\n",
    "    if y.find('fever') != -1 and y.find('cough') != -1 :\n",
    "        return 'fever and cough'\n",
    "    # Cuando solo hay fiebre\n",
    "    elif y.find('fever') != -1 or y.find('Fever') != -1:\n",
    "        return 'fever'\n",
    "    # Cuando solo hay tos\n",
    "    elif y.find('cough') != -1:\n",
    "        return 'cough'\n",
    "    # Cuando es asintomático\n",
    "    elif y.find('asymptomat') != -1 or y.find('no') != -1:\n",
    "        return 'asymptomatic'\n",
    "    # Para los que no entran en ninguna categoría. Incluye a los nan.\n",
    "    else:\n",
    "        return 'others'\n",
    "\n",
    "# Se utiliza la función anterior.\n",
    "for dataset in full_data:\n",
    "    dataset['symptoms'] = dataset['symptoms'].apply(arreglar_sintomas)\n",
    "    dataset['symptoms'] = dataset['symptoms'].astype(str)"
   ]
  },
  {
   "cell_type": "code",
   "execution_count": 53,
   "metadata": {},
   "outputs": [
    {
     "data": {
      "text/plain": [
       "array([0, 1, 2, 3, 4])"
      ]
     },
     "execution_count": 53,
     "metadata": {},
     "output_type": "execute_result"
    }
   ],
   "source": [
    "train['symptoms'].unique() # Se enlistan los síntomas"
   ]
  },
  {
   "cell_type": "markdown",
   "metadata": {},
   "source": [
    "### Enfermedad Crónica"
   ]
  },
  {
   "cell_type": "code",
   "execution_count": 13,
   "metadata": {
    "scrolled": true
   },
   "outputs": [
    {
     "data": {
      "text/plain": [
       "array([nan,  1.,  0.])"
      ]
     },
     "execution_count": 13,
     "metadata": {},
     "output_type": "execute_result"
    }
   ],
   "source": [
    "train['chronic_disease_binary'].unique() # Valores de enfermedad crónica binaria"
   ]
  },
  {
   "cell_type": "code",
   "execution_count": 14,
   "metadata": {},
   "outputs": [],
   "source": [
    "# Se reemplazan a los nan por ceros\n",
    "for dataset in full_data:\n",
    "    dataset['chronic_disease_binary'] = dataset['chronic_disease_binary'].fillna(0)\n",
    "    dataset['chronic_disease_binary'] = dataset['chronic_disease_binary'].astype(int)"
   ]
  },
  {
   "cell_type": "code",
   "execution_count": 15,
   "metadata": {},
   "outputs": [
    {
     "data": {
      "text/plain": [
       "array([0, 1])"
      ]
     },
     "execution_count": 15,
     "metadata": {},
     "output_type": "execute_result"
    }
   ],
   "source": [
    "train['chronic_disease_binary'].unique() # Se muestra el resultado"
   ]
  },
  {
   "cell_type": "markdown",
   "metadata": {},
   "source": [
    "### Outcome"
   ]
  },
  {
   "cell_type": "code",
   "execution_count": 16,
   "metadata": {
    "scrolled": true
   },
   "outputs": [
    {
     "data": {
      "text/plain": [
       "array([nan, 'discharged', 'discharge', 'died', 'Discharged', '05.02.2020',\n",
       "       'death',\n",
       "       'Symptoms only improved with cough. Currently hospitalized for follow-up.',\n",
       "       'recovered', 'stable',\n",
       "       'critical condition, intubated as of 14.02.2020',\n",
       "       'treated in an intensive care unit (14.02.2020)', 'severe'],\n",
       "      dtype=object)"
      ]
     },
     "execution_count": 16,
     "metadata": {},
     "output_type": "execute_result"
    }
   ],
   "source": [
    "train['outcome'].unique() # Se enlistan los posibles desenlaces."
   ]
  },
  {
   "cell_type": "code",
   "execution_count": 17,
   "metadata": {},
   "outputs": [],
   "source": [
    "# Para los que dicen 'death' o 'discharge' se asignó 'death'. Para los demás incluyendo nan se asignó 'alive'.\n",
    "for dataset in full_data:\n",
    "    dataset['outcome'] = dataset['outcome'].replace(['Symptoms only improved with cough. Currently hospitalized for follow-up.',\n",
    "       'recovered', 'stable',\n",
    "       'critical condition, intubated as of 14.02.2020',\n",
    "       'treated in an intensive care unit (14.02.2020)', 'severe', '4000'], 'alive')\n",
    "    dataset['outcome'] = dataset['outcome'].replace(['05.02.2020','discharged', 'discharge', 'Discharged','died', 'death'], 'death')\n",
    "    dataset['outcome'] = dataset['outcome'].fillna('alive')\n",
    "    dataset['outcome'] = dataset['outcome'].astype(str)"
   ]
  },
  {
   "cell_type": "code",
   "execution_count": 18,
   "metadata": {
    "scrolled": true
   },
   "outputs": [
    {
     "data": {
      "text/plain": [
       "array(['alive', 'death'], dtype=object)"
      ]
     },
     "execution_count": 18,
     "metadata": {},
     "output_type": "execute_result"
    }
   ],
   "source": [
    "train['outcome'].unique() # Se comprueban los resultados"
   ]
  },
  {
   "cell_type": "markdown",
   "metadata": {},
   "source": [
    "## Mapping\n",
    "Se utiliza el mapping para asignar valores numéricos a las agrupaciones de cada una de las columnas. Se utilizan diccionarios."
   ]
  },
  {
   "cell_type": "code",
   "execution_count": 19,
   "metadata": {},
   "outputs": [],
   "source": [
    "for dataset in full_data:\n",
    "    # Mapping age\n",
    "    dataset.loc[ dataset['age'] <= 20, 'age'] = 0\n",
    "    dataset.loc[(dataset['age'] > 20) & (dataset['age'] <= 40), 'age'] = 1\n",
    "    dataset.loc[(dataset['age'] > 40) & (dataset['age'] <= 60), 'age'] = 2\n",
    "    dataset.loc[(dataset['age'] > 60) & (dataset['age'] <= 80), 'age'] = 3\n",
    "    dataset.loc[ dataset['age'] > 80, 'age'] = 5;\n",
    "    # Mapping sex\n",
    "    dataset['sex'] = dataset['sex'].map( {'female': 0, 'male': 1, 'Non-specified': 2} ).astype(int)\n",
    "    #Mapping symptoms\n",
    "    symptoms_mapping = {'others': 0, 'fever': 1, 'cough': 2, 'fever and cough': 3, 'asymptomatic': 4}\n",
    "    dataset['symptoms'] = dataset['symptoms'].map(symptoms_mapping).astype(int)\n",
    "    #Mapping outcome\n",
    "    dataset['outcome'] = dataset['outcome'].map( {'death': 0, 'alive': 1} ).astype(int)"
   ]
  },
  {
   "cell_type": "code",
   "execution_count": 20,
   "metadata": {},
   "outputs": [
    {
     "data": {
      "text/html": [
       "<div>\n",
       "<style scoped>\n",
       "    .dataframe tbody tr th:only-of-type {\n",
       "        vertical-align: middle;\n",
       "    }\n",
       "\n",
       "    .dataframe tbody tr th {\n",
       "        vertical-align: top;\n",
       "    }\n",
       "\n",
       "    .dataframe thead th {\n",
       "        text-align: right;\n",
       "    }\n",
       "</style>\n",
       "<table border=\"1\" class=\"dataframe\">\n",
       "  <thead>\n",
       "    <tr style=\"text-align: right;\">\n",
       "      <th></th>\n",
       "      <th>ID</th>\n",
       "      <th>age</th>\n",
       "      <th>sex</th>\n",
       "      <th>city</th>\n",
       "      <th>province</th>\n",
       "      <th>country</th>\n",
       "      <th>wuhan(0)_not_wuhan(1)</th>\n",
       "      <th>latitude</th>\n",
       "      <th>longitude</th>\n",
       "      <th>geo_resolution</th>\n",
       "      <th>...</th>\n",
       "      <th>outcome</th>\n",
       "      <th>date_death_or_discharge</th>\n",
       "      <th>notes_for_discussion</th>\n",
       "      <th>location</th>\n",
       "      <th>admin3</th>\n",
       "      <th>admin2</th>\n",
       "      <th>admin1</th>\n",
       "      <th>country_new</th>\n",
       "      <th>admin_id</th>\n",
       "      <th>data_moderator_initials</th>\n",
       "    </tr>\n",
       "  </thead>\n",
       "  <tbody>\n",
       "    <tr>\n",
       "      <th>0</th>\n",
       "      <td>1.0</td>\n",
       "      <td>1</td>\n",
       "      <td>1</td>\n",
       "      <td>Chaohu City, Hefei City</td>\n",
       "      <td>Anhui</td>\n",
       "      <td>China</td>\n",
       "      <td>1.0</td>\n",
       "      <td>31.646960</td>\n",
       "      <td>117.716600</td>\n",
       "      <td>admin3</td>\n",
       "      <td>...</td>\n",
       "      <td>1</td>\n",
       "      <td>NaN</td>\n",
       "      <td>NaN</td>\n",
       "      <td>NaN</td>\n",
       "      <td>Chaohu City</td>\n",
       "      <td>Hefei City</td>\n",
       "      <td>Anhui</td>\n",
       "      <td>China</td>\n",
       "      <td>340181</td>\n",
       "      <td>NaN</td>\n",
       "    </tr>\n",
       "    <tr>\n",
       "      <th>1</th>\n",
       "      <td>2.0</td>\n",
       "      <td>2</td>\n",
       "      <td>1</td>\n",
       "      <td>Baohe District, Hefei City</td>\n",
       "      <td>Anhui</td>\n",
       "      <td>China</td>\n",
       "      <td>1.0</td>\n",
       "      <td>31.778630</td>\n",
       "      <td>117.331900</td>\n",
       "      <td>admin3</td>\n",
       "      <td>...</td>\n",
       "      <td>1</td>\n",
       "      <td>NaN</td>\n",
       "      <td>NaN</td>\n",
       "      <td>NaN</td>\n",
       "      <td>Baohe District</td>\n",
       "      <td>Hefei City</td>\n",
       "      <td>Anhui</td>\n",
       "      <td>China</td>\n",
       "      <td>340111</td>\n",
       "      <td>NaN</td>\n",
       "    </tr>\n",
       "    <tr>\n",
       "      <th>2</th>\n",
       "      <td>3.0</td>\n",
       "      <td>2</td>\n",
       "      <td>1</td>\n",
       "      <td>High-Tech Zone, Hefei City</td>\n",
       "      <td>Anhui</td>\n",
       "      <td>China</td>\n",
       "      <td>1.0</td>\n",
       "      <td>31.828313</td>\n",
       "      <td>117.224844</td>\n",
       "      <td>point</td>\n",
       "      <td>...</td>\n",
       "      <td>1</td>\n",
       "      <td>NaN</td>\n",
       "      <td>NaN</td>\n",
       "      <td>High-Tech Zone</td>\n",
       "      <td>Shushan District</td>\n",
       "      <td>Hefei City</td>\n",
       "      <td>Anhui</td>\n",
       "      <td>China</td>\n",
       "      <td>340104</td>\n",
       "      <td>NaN</td>\n",
       "    </tr>\n",
       "    <tr>\n",
       "      <th>3</th>\n",
       "      <td>4.0</td>\n",
       "      <td>2</td>\n",
       "      <td>0</td>\n",
       "      <td>High-Tech Zone, Hefei City</td>\n",
       "      <td>Anhui</td>\n",
       "      <td>China</td>\n",
       "      <td>1.0</td>\n",
       "      <td>31.828313</td>\n",
       "      <td>117.224844</td>\n",
       "      <td>point</td>\n",
       "      <td>...</td>\n",
       "      <td>1</td>\n",
       "      <td>NaN</td>\n",
       "      <td>NaN</td>\n",
       "      <td>High-Tech Zone</td>\n",
       "      <td>Shushan District</td>\n",
       "      <td>Hefei City</td>\n",
       "      <td>Anhui</td>\n",
       "      <td>China</td>\n",
       "      <td>340104</td>\n",
       "      <td>NaN</td>\n",
       "    </tr>\n",
       "    <tr>\n",
       "      <th>4</th>\n",
       "      <td>5.0</td>\n",
       "      <td>2</td>\n",
       "      <td>0</td>\n",
       "      <td>Feidong County, Hefei City</td>\n",
       "      <td>Anhui</td>\n",
       "      <td>China</td>\n",
       "      <td>1.0</td>\n",
       "      <td>32.001230</td>\n",
       "      <td>117.568100</td>\n",
       "      <td>admin3</td>\n",
       "      <td>...</td>\n",
       "      <td>1</td>\n",
       "      <td>NaN</td>\n",
       "      <td>NaN</td>\n",
       "      <td>NaN</td>\n",
       "      <td>Feidong County</td>\n",
       "      <td>Hefei City</td>\n",
       "      <td>Anhui</td>\n",
       "      <td>China</td>\n",
       "      <td>340122</td>\n",
       "      <td>NaN</td>\n",
       "    </tr>\n",
       "    <tr>\n",
       "      <th>5</th>\n",
       "      <td>6.0</td>\n",
       "      <td>2</td>\n",
       "      <td>2</td>\n",
       "      <td>Lu'an City</td>\n",
       "      <td>Anhui</td>\n",
       "      <td>China</td>\n",
       "      <td>1.0</td>\n",
       "      <td>31.759410</td>\n",
       "      <td>116.315100</td>\n",
       "      <td>admin2</td>\n",
       "      <td>...</td>\n",
       "      <td>1</td>\n",
       "      <td>NaN</td>\n",
       "      <td>NaN</td>\n",
       "      <td>NaN</td>\n",
       "      <td>NaN</td>\n",
       "      <td>Lu'an City</td>\n",
       "      <td>Anhui</td>\n",
       "      <td>China</td>\n",
       "      <td>341500</td>\n",
       "      <td>NaN</td>\n",
       "    </tr>\n",
       "    <tr>\n",
       "      <th>6</th>\n",
       "      <td>7.0</td>\n",
       "      <td>2</td>\n",
       "      <td>0</td>\n",
       "      <td>Fuyang City</td>\n",
       "      <td>Anhui</td>\n",
       "      <td>China</td>\n",
       "      <td>1.0</td>\n",
       "      <td>32.918800</td>\n",
       "      <td>115.703600</td>\n",
       "      <td>admin2</td>\n",
       "      <td>...</td>\n",
       "      <td>1</td>\n",
       "      <td>NaN</td>\n",
       "      <td>NaN</td>\n",
       "      <td>NaN</td>\n",
       "      <td>NaN</td>\n",
       "      <td>Fuyang City</td>\n",
       "      <td>Anhui</td>\n",
       "      <td>China</td>\n",
       "      <td>341200</td>\n",
       "      <td>NaN</td>\n",
       "    </tr>\n",
       "    <tr>\n",
       "      <th>7</th>\n",
       "      <td>8.0</td>\n",
       "      <td>1</td>\n",
       "      <td>0</td>\n",
       "      <td>Huaibei City</td>\n",
       "      <td>Anhui</td>\n",
       "      <td>China</td>\n",
       "      <td>1.0</td>\n",
       "      <td>33.727220</td>\n",
       "      <td>116.742400</td>\n",
       "      <td>admin2</td>\n",
       "      <td>...</td>\n",
       "      <td>1</td>\n",
       "      <td>NaN</td>\n",
       "      <td>NaN</td>\n",
       "      <td>NaN</td>\n",
       "      <td>NaN</td>\n",
       "      <td>Huaibei City</td>\n",
       "      <td>Anhui</td>\n",
       "      <td>China</td>\n",
       "      <td>340600</td>\n",
       "      <td>NaN</td>\n",
       "    </tr>\n",
       "    <tr>\n",
       "      <th>8</th>\n",
       "      <td>9.0</td>\n",
       "      <td>2</td>\n",
       "      <td>0</td>\n",
       "      <td>Huainan City</td>\n",
       "      <td>Anhui</td>\n",
       "      <td>China</td>\n",
       "      <td>1.0</td>\n",
       "      <td>32.757380</td>\n",
       "      <td>116.734000</td>\n",
       "      <td>admin2</td>\n",
       "      <td>...</td>\n",
       "      <td>1</td>\n",
       "      <td>NaN</td>\n",
       "      <td>NaN</td>\n",
       "      <td>NaN</td>\n",
       "      <td>NaN</td>\n",
       "      <td>Huainan City</td>\n",
       "      <td>Anhui</td>\n",
       "      <td>China</td>\n",
       "      <td>340400</td>\n",
       "      <td>NaN</td>\n",
       "    </tr>\n",
       "    <tr>\n",
       "      <th>9</th>\n",
       "      <td>10.0</td>\n",
       "      <td>1</td>\n",
       "      <td>1</td>\n",
       "      <td>Hefei City</td>\n",
       "      <td>Anhui</td>\n",
       "      <td>China</td>\n",
       "      <td>1.0</td>\n",
       "      <td>31.794440</td>\n",
       "      <td>117.342800</td>\n",
       "      <td>admin2</td>\n",
       "      <td>...</td>\n",
       "      <td>1</td>\n",
       "      <td>NaN</td>\n",
       "      <td>NaN</td>\n",
       "      <td>NaN</td>\n",
       "      <td>NaN</td>\n",
       "      <td>Hefei City</td>\n",
       "      <td>Anhui</td>\n",
       "      <td>China</td>\n",
       "      <td>340100</td>\n",
       "      <td>NaN</td>\n",
       "    </tr>\n",
       "  </tbody>\n",
       "</table>\n",
       "<p>10 rows × 33 columns</p>\n",
       "</div>"
      ],
      "text/plain": [
       "     ID  age  sex                        city province country  \\\n",
       "0   1.0    1    1     Chaohu City, Hefei City    Anhui   China   \n",
       "1   2.0    2    1  Baohe District, Hefei City    Anhui   China   \n",
       "2   3.0    2    1  High-Tech Zone, Hefei City    Anhui   China   \n",
       "3   4.0    2    0  High-Tech Zone, Hefei City    Anhui   China   \n",
       "4   5.0    2    0  Feidong County, Hefei City    Anhui   China   \n",
       "5   6.0    2    2                  Lu'an City    Anhui   China   \n",
       "6   7.0    2    0                 Fuyang City    Anhui   China   \n",
       "7   8.0    1    0                Huaibei City    Anhui   China   \n",
       "8   9.0    2    0                Huainan City    Anhui   China   \n",
       "9  10.0    1    1                  Hefei City    Anhui   China   \n",
       "\n",
       "   wuhan(0)_not_wuhan(1)   latitude   longitude geo_resolution  ... outcome  \\\n",
       "0                    1.0  31.646960  117.716600         admin3  ...       1   \n",
       "1                    1.0  31.778630  117.331900         admin3  ...       1   \n",
       "2                    1.0  31.828313  117.224844          point  ...       1   \n",
       "3                    1.0  31.828313  117.224844          point  ...       1   \n",
       "4                    1.0  32.001230  117.568100         admin3  ...       1   \n",
       "5                    1.0  31.759410  116.315100         admin2  ...       1   \n",
       "6                    1.0  32.918800  115.703600         admin2  ...       1   \n",
       "7                    1.0  33.727220  116.742400         admin2  ...       1   \n",
       "8                    1.0  32.757380  116.734000         admin2  ...       1   \n",
       "9                    1.0  31.794440  117.342800         admin2  ...       1   \n",
       "\n",
       "  date_death_or_discharge notes_for_discussion        location  \\\n",
       "0                     NaN                  NaN             NaN   \n",
       "1                     NaN                  NaN             NaN   \n",
       "2                     NaN                  NaN  High-Tech Zone   \n",
       "3                     NaN                  NaN  High-Tech Zone   \n",
       "4                     NaN                  NaN             NaN   \n",
       "5                     NaN                  NaN             NaN   \n",
       "6                     NaN                  NaN             NaN   \n",
       "7                     NaN                  NaN             NaN   \n",
       "8                     NaN                  NaN             NaN   \n",
       "9                     NaN                  NaN             NaN   \n",
       "\n",
       "             admin3        admin2 admin1 country_new admin_id  \\\n",
       "0       Chaohu City    Hefei City  Anhui       China   340181   \n",
       "1    Baohe District    Hefei City  Anhui       China   340111   \n",
       "2  Shushan District    Hefei City  Anhui       China   340104   \n",
       "3  Shushan District    Hefei City  Anhui       China   340104   \n",
       "4    Feidong County    Hefei City  Anhui       China   340122   \n",
       "5               NaN    Lu'an City  Anhui       China   341500   \n",
       "6               NaN   Fuyang City  Anhui       China   341200   \n",
       "7               NaN  Huaibei City  Anhui       China   340600   \n",
       "8               NaN  Huainan City  Anhui       China   340400   \n",
       "9               NaN    Hefei City  Anhui       China   340100   \n",
       "\n",
       "   data_moderator_initials  \n",
       "0                      NaN  \n",
       "1                      NaN  \n",
       "2                      NaN  \n",
       "3                      NaN  \n",
       "4                      NaN  \n",
       "5                      NaN  \n",
       "6                      NaN  \n",
       "7                      NaN  \n",
       "8                      NaN  \n",
       "9                      NaN  \n",
       "\n",
       "[10 rows x 33 columns]"
      ]
     },
     "execution_count": 20,
     "metadata": {},
     "output_type": "execute_result"
    }
   ],
   "source": [
    "train.head(5) # Se muestra el nuevo dataset con sus nuevos valores"
   ]
  },
  {
   "cell_type": "code",
   "execution_count": 21,
   "metadata": {},
   "outputs": [],
   "source": [
    "# Se eliminan las columnas que no serán utilizadas\n",
    "drop_elements = ['ID','city','province','country','wuhan(0)_not_wuhan(1)','latitude','longitude','geo_resolution','date_onset_symptoms','date_admission_hospital','date_confirmation','lives_in_Wuhan','travel_history_dates','travel_history_location','reported_market_exposure','chronic_disease','source','sequence_available','date_death_or_discharge','notes_for_discussion','location','admin3','admin2','admin1','country_new','admin_id','data_moderator_initials','additional_information']\n",
    "train = train.drop(drop_elements, axis = 1)\n",
    "test  = test.drop(drop_elements, axis = 1)"
   ]
  },
  {
   "cell_type": "code",
   "execution_count": 22,
   "metadata": {},
   "outputs": [
    {
     "data": {
      "text/html": [
       "<div>\n",
       "<style scoped>\n",
       "    .dataframe tbody tr th:only-of-type {\n",
       "        vertical-align: middle;\n",
       "    }\n",
       "\n",
       "    .dataframe tbody tr th {\n",
       "        vertical-align: top;\n",
       "    }\n",
       "\n",
       "    .dataframe thead th {\n",
       "        text-align: right;\n",
       "    }\n",
       "</style>\n",
       "<table border=\"1\" class=\"dataframe\">\n",
       "  <thead>\n",
       "    <tr style=\"text-align: right;\">\n",
       "      <th></th>\n",
       "      <th>age</th>\n",
       "      <th>sex</th>\n",
       "      <th>symptoms</th>\n",
       "      <th>chronic_disease_binary</th>\n",
       "      <th>outcome</th>\n",
       "    </tr>\n",
       "  </thead>\n",
       "  <tbody>\n",
       "    <tr>\n",
       "      <th>0</th>\n",
       "      <td>1</td>\n",
       "      <td>1</td>\n",
       "      <td>0</td>\n",
       "      <td>0</td>\n",
       "      <td>1</td>\n",
       "    </tr>\n",
       "    <tr>\n",
       "      <th>1</th>\n",
       "      <td>2</td>\n",
       "      <td>1</td>\n",
       "      <td>0</td>\n",
       "      <td>0</td>\n",
       "      <td>1</td>\n",
       "    </tr>\n",
       "    <tr>\n",
       "      <th>2</th>\n",
       "      <td>2</td>\n",
       "      <td>1</td>\n",
       "      <td>0</td>\n",
       "      <td>0</td>\n",
       "      <td>1</td>\n",
       "    </tr>\n",
       "    <tr>\n",
       "      <th>3</th>\n",
       "      <td>2</td>\n",
       "      <td>0</td>\n",
       "      <td>0</td>\n",
       "      <td>0</td>\n",
       "      <td>1</td>\n",
       "    </tr>\n",
       "    <tr>\n",
       "      <th>4</th>\n",
       "      <td>2</td>\n",
       "      <td>0</td>\n",
       "      <td>0</td>\n",
       "      <td>0</td>\n",
       "      <td>1</td>\n",
       "    </tr>\n",
       "    <tr>\n",
       "      <th>5</th>\n",
       "      <td>2</td>\n",
       "      <td>2</td>\n",
       "      <td>0</td>\n",
       "      <td>0</td>\n",
       "      <td>1</td>\n",
       "    </tr>\n",
       "    <tr>\n",
       "      <th>6</th>\n",
       "      <td>2</td>\n",
       "      <td>0</td>\n",
       "      <td>1</td>\n",
       "      <td>0</td>\n",
       "      <td>1</td>\n",
       "    </tr>\n",
       "    <tr>\n",
       "      <th>7</th>\n",
       "      <td>1</td>\n",
       "      <td>0</td>\n",
       "      <td>0</td>\n",
       "      <td>0</td>\n",
       "      <td>1</td>\n",
       "    </tr>\n",
       "    <tr>\n",
       "      <th>8</th>\n",
       "      <td>2</td>\n",
       "      <td>0</td>\n",
       "      <td>1</td>\n",
       "      <td>0</td>\n",
       "      <td>1</td>\n",
       "    </tr>\n",
       "    <tr>\n",
       "      <th>9</th>\n",
       "      <td>1</td>\n",
       "      <td>1</td>\n",
       "      <td>0</td>\n",
       "      <td>0</td>\n",
       "      <td>1</td>\n",
       "    </tr>\n",
       "    <tr>\n",
       "      <th>10</th>\n",
       "      <td>2</td>\n",
       "      <td>2</td>\n",
       "      <td>0</td>\n",
       "      <td>0</td>\n",
       "      <td>1</td>\n",
       "    </tr>\n",
       "    <tr>\n",
       "      <th>11</th>\n",
       "      <td>1</td>\n",
       "      <td>1</td>\n",
       "      <td>0</td>\n",
       "      <td>0</td>\n",
       "      <td>1</td>\n",
       "    </tr>\n",
       "    <tr>\n",
       "      <th>12</th>\n",
       "      <td>1</td>\n",
       "      <td>2</td>\n",
       "      <td>0</td>\n",
       "      <td>0</td>\n",
       "      <td>1</td>\n",
       "    </tr>\n",
       "    <tr>\n",
       "      <th>13</th>\n",
       "      <td>1</td>\n",
       "      <td>0</td>\n",
       "      <td>2</td>\n",
       "      <td>0</td>\n",
       "      <td>1</td>\n",
       "    </tr>\n",
       "    <tr>\n",
       "      <th>14</th>\n",
       "      <td>2</td>\n",
       "      <td>1</td>\n",
       "      <td>1</td>\n",
       "      <td>0</td>\n",
       "      <td>1</td>\n",
       "    </tr>\n",
       "    <tr>\n",
       "      <th>15</th>\n",
       "      <td>2</td>\n",
       "      <td>2</td>\n",
       "      <td>0</td>\n",
       "      <td>0</td>\n",
       "      <td>1</td>\n",
       "    </tr>\n",
       "    <tr>\n",
       "      <th>16</th>\n",
       "      <td>1</td>\n",
       "      <td>2</td>\n",
       "      <td>0</td>\n",
       "      <td>0</td>\n",
       "      <td>1</td>\n",
       "    </tr>\n",
       "    <tr>\n",
       "      <th>17</th>\n",
       "      <td>1</td>\n",
       "      <td>0</td>\n",
       "      <td>1</td>\n",
       "      <td>0</td>\n",
       "      <td>1</td>\n",
       "    </tr>\n",
       "    <tr>\n",
       "      <th>18</th>\n",
       "      <td>1</td>\n",
       "      <td>0</td>\n",
       "      <td>1</td>\n",
       "      <td>0</td>\n",
       "      <td>0</td>\n",
       "    </tr>\n",
       "    <tr>\n",
       "      <th>19</th>\n",
       "      <td>2</td>\n",
       "      <td>2</td>\n",
       "      <td>0</td>\n",
       "      <td>0</td>\n",
       "      <td>1</td>\n",
       "    </tr>\n",
       "    <tr>\n",
       "      <th>20</th>\n",
       "      <td>1</td>\n",
       "      <td>1</td>\n",
       "      <td>1</td>\n",
       "      <td>0</td>\n",
       "      <td>1</td>\n",
       "    </tr>\n",
       "    <tr>\n",
       "      <th>21</th>\n",
       "      <td>1</td>\n",
       "      <td>1</td>\n",
       "      <td>1</td>\n",
       "      <td>0</td>\n",
       "      <td>1</td>\n",
       "    </tr>\n",
       "    <tr>\n",
       "      <th>22</th>\n",
       "      <td>1</td>\n",
       "      <td>0</td>\n",
       "      <td>0</td>\n",
       "      <td>0</td>\n",
       "      <td>1</td>\n",
       "    </tr>\n",
       "    <tr>\n",
       "      <th>23</th>\n",
       "      <td>2</td>\n",
       "      <td>1</td>\n",
       "      <td>1</td>\n",
       "      <td>0</td>\n",
       "      <td>1</td>\n",
       "    </tr>\n",
       "    <tr>\n",
       "      <th>24</th>\n",
       "      <td>2</td>\n",
       "      <td>1</td>\n",
       "      <td>1</td>\n",
       "      <td>0</td>\n",
       "      <td>1</td>\n",
       "    </tr>\n",
       "    <tr>\n",
       "      <th>25</th>\n",
       "      <td>0</td>\n",
       "      <td>0</td>\n",
       "      <td>1</td>\n",
       "      <td>0</td>\n",
       "      <td>1</td>\n",
       "    </tr>\n",
       "    <tr>\n",
       "      <th>26</th>\n",
       "      <td>2</td>\n",
       "      <td>0</td>\n",
       "      <td>1</td>\n",
       "      <td>0</td>\n",
       "      <td>1</td>\n",
       "    </tr>\n",
       "    <tr>\n",
       "      <th>27</th>\n",
       "      <td>2</td>\n",
       "      <td>1</td>\n",
       "      <td>1</td>\n",
       "      <td>0</td>\n",
       "      <td>1</td>\n",
       "    </tr>\n",
       "    <tr>\n",
       "      <th>28</th>\n",
       "      <td>1</td>\n",
       "      <td>0</td>\n",
       "      <td>1</td>\n",
       "      <td>0</td>\n",
       "      <td>1</td>\n",
       "    </tr>\n",
       "    <tr>\n",
       "      <th>29</th>\n",
       "      <td>1</td>\n",
       "      <td>2</td>\n",
       "      <td>0</td>\n",
       "      <td>0</td>\n",
       "      <td>1</td>\n",
       "    </tr>\n",
       "    <tr>\n",
       "      <th>30</th>\n",
       "      <td>2</td>\n",
       "      <td>2</td>\n",
       "      <td>0</td>\n",
       "      <td>0</td>\n",
       "      <td>1</td>\n",
       "    </tr>\n",
       "    <tr>\n",
       "      <th>31</th>\n",
       "      <td>2</td>\n",
       "      <td>2</td>\n",
       "      <td>0</td>\n",
       "      <td>0</td>\n",
       "      <td>1</td>\n",
       "    </tr>\n",
       "    <tr>\n",
       "      <th>32</th>\n",
       "      <td>2</td>\n",
       "      <td>2</td>\n",
       "      <td>0</td>\n",
       "      <td>0</td>\n",
       "      <td>1</td>\n",
       "    </tr>\n",
       "    <tr>\n",
       "      <th>33</th>\n",
       "      <td>1</td>\n",
       "      <td>2</td>\n",
       "      <td>0</td>\n",
       "      <td>0</td>\n",
       "      <td>1</td>\n",
       "    </tr>\n",
       "    <tr>\n",
       "      <th>34</th>\n",
       "      <td>2</td>\n",
       "      <td>2</td>\n",
       "      <td>0</td>\n",
       "      <td>0</td>\n",
       "      <td>1</td>\n",
       "    </tr>\n",
       "    <tr>\n",
       "      <th>35</th>\n",
       "      <td>2</td>\n",
       "      <td>2</td>\n",
       "      <td>0</td>\n",
       "      <td>0</td>\n",
       "      <td>1</td>\n",
       "    </tr>\n",
       "    <tr>\n",
       "      <th>36</th>\n",
       "      <td>2</td>\n",
       "      <td>2</td>\n",
       "      <td>0</td>\n",
       "      <td>0</td>\n",
       "      <td>1</td>\n",
       "    </tr>\n",
       "    <tr>\n",
       "      <th>37</th>\n",
       "      <td>2</td>\n",
       "      <td>1</td>\n",
       "      <td>0</td>\n",
       "      <td>0</td>\n",
       "      <td>1</td>\n",
       "    </tr>\n",
       "    <tr>\n",
       "      <th>38</th>\n",
       "      <td>3</td>\n",
       "      <td>1</td>\n",
       "      <td>0</td>\n",
       "      <td>0</td>\n",
       "      <td>1</td>\n",
       "    </tr>\n",
       "    <tr>\n",
       "      <th>39</th>\n",
       "      <td>1</td>\n",
       "      <td>1</td>\n",
       "      <td>0</td>\n",
       "      <td>0</td>\n",
       "      <td>1</td>\n",
       "    </tr>\n",
       "  </tbody>\n",
       "</table>\n",
       "</div>"
      ],
      "text/plain": [
       "    age  sex  symptoms  chronic_disease_binary  outcome\n",
       "0     1    1         0                       0        1\n",
       "1     2    1         0                       0        1\n",
       "2     2    1         0                       0        1\n",
       "3     2    0         0                       0        1\n",
       "4     2    0         0                       0        1\n",
       "5     2    2         0                       0        1\n",
       "6     2    0         1                       0        1\n",
       "7     1    0         0                       0        1\n",
       "8     2    0         1                       0        1\n",
       "9     1    1         0                       0        1\n",
       "10    2    2         0                       0        1\n",
       "11    1    1         0                       0        1\n",
       "12    1    2         0                       0        1\n",
       "13    1    0         2                       0        1\n",
       "14    2    1         1                       0        1\n",
       "15    2    2         0                       0        1\n",
       "16    1    2         0                       0        1\n",
       "17    1    0         1                       0        1\n",
       "18    1    0         1                       0        0\n",
       "19    2    2         0                       0        1\n",
       "20    1    1         1                       0        1\n",
       "21    1    1         1                       0        1\n",
       "22    1    0         0                       0        1\n",
       "23    2    1         1                       0        1\n",
       "24    2    1         1                       0        1\n",
       "25    0    0         1                       0        1\n",
       "26    2    0         1                       0        1\n",
       "27    2    1         1                       0        1\n",
       "28    1    0         1                       0        1\n",
       "29    1    2         0                       0        1\n",
       "30    2    2         0                       0        1\n",
       "31    2    2         0                       0        1\n",
       "32    2    2         0                       0        1\n",
       "33    1    2         0                       0        1\n",
       "34    2    2         0                       0        1\n",
       "35    2    2         0                       0        1\n",
       "36    2    2         0                       0        1\n",
       "37    2    1         0                       0        1\n",
       "38    3    1         0                       0        1\n",
       "39    1    1         0                       0        1"
      ]
     },
     "execution_count": 22,
     "metadata": {},
     "output_type": "execute_result"
    }
   ],
   "source": [
    "train.head(5) # Se muestra la nueva tabla con las columnas que serán usadas"
   ]
  },
  {
   "cell_type": "code",
   "execution_count": 23,
   "metadata": {},
   "outputs": [
    {
     "data": {
      "text/plain": [
       "<matplotlib.axes._subplots.AxesSubplot at 0x1a1b6c5910>"
      ]
     },
     "execution_count": 23,
     "metadata": {},
     "output_type": "execute_result"
    },
    {
     "data": {
      "image/png": "[encoded data removed]",
      "text/plain": [
       "<Figure size 432x432 with 2 Axes>"
      ]
     },
     "metadata": {
      "needs_background": "light"
     },
     "output_type": "display_data"
    }
   ],
   "source": [
    "# Se realiza una gráfica para ver cuáles tienen mayor relación dentro del dataset\n",
    "colormap = plt.cm.viridis\n",
    "plt.figure(figsize=(6,6))\n",
    "plt.title('Correlación datos COVID', y=1.05, size=15)\n",
    "sns.heatmap(train.astype(float).corr(),linewidths=0.1,vmax=1.0, square=True, cmap=colormap, linecolor='white', annot=True)"
   ]
  },
  {
   "cell_type": "markdown",
   "metadata": {},
   "source": [
    "# Calculando el gini"
   ]
  },
  {
   "cell_type": "code",
   "execution_count": 24,
   "metadata": {
    "scrolled": true
   },
   "outputs": [
    {
     "data": {
      "text/html": [
       "<div>\n",
       "<style scoped>\n",
       "    .dataframe tbody tr th:only-of-type {\n",
       "        vertical-align: middle;\n",
       "    }\n",
       "\n",
       "    .dataframe tbody tr th {\n",
       "        vertical-align: top;\n",
       "    }\n",
       "\n",
       "    .dataframe thead tr th {\n",
       "        text-align: left;\n",
       "    }\n",
       "\n",
       "    .dataframe thead tr:last-of-type th {\n",
       "        text-align: right;\n",
       "    }\n",
       "</style>\n",
       "<table border=\"1\" class=\"dataframe\">\n",
       "  <thead>\n",
       "    <tr>\n",
       "      <th></th>\n",
       "      <th colspan=\"3\" halign=\"left\">outcome</th>\n",
       "    </tr>\n",
       "    <tr>\n",
       "      <th></th>\n",
       "      <th>mean</th>\n",
       "      <th>count</th>\n",
       "      <th>sum</th>\n",
       "    </tr>\n",
       "    <tr>\n",
       "      <th>sex</th>\n",
       "      <th></th>\n",
       "      <th></th>\n",
       "      <th></th>\n",
       "    </tr>\n",
       "  </thead>\n",
       "  <tbody>\n",
       "    <tr>\n",
       "      <th>0</th>\n",
       "      <td>0.931777</td>\n",
       "      <td>557</td>\n",
       "      <td>519</td>\n",
       "    </tr>\n",
       "    <tr>\n",
       "      <th>1</th>\n",
       "      <td>0.936351</td>\n",
       "      <td>707</td>\n",
       "      <td>662</td>\n",
       "    </tr>\n",
       "    <tr>\n",
       "      <th>2</th>\n",
       "      <td>0.998678</td>\n",
       "      <td>12862</td>\n",
       "      <td>12845</td>\n",
       "    </tr>\n",
       "  </tbody>\n",
       "</table>\n",
       "</div>"
      ],
      "text/plain": [
       "      outcome              \n",
       "         mean  count    sum\n",
       "sex                        \n",
       "0    0.931777    557    519\n",
       "1    0.936351    707    662\n",
       "2    0.998678  12862  12845"
      ]
     },
     "execution_count": 24,
     "metadata": {},
     "output_type": "execute_result"
    }
   ],
   "source": [
    "train[['sex', 'outcome']].groupby(['sex'], as_index=False).agg(['mean', 'count', 'sum'])"
   ]
  },
  {
   "cell_type": "code",
   "execution_count": 25,
   "metadata": {},
   "outputs": [
    {
     "data": {
      "text/html": [
       "<div>\n",
       "<style scoped>\n",
       "    .dataframe tbody tr th:only-of-type {\n",
       "        vertical-align: middle;\n",
       "    }\n",
       "\n",
       "    .dataframe tbody tr th {\n",
       "        vertical-align: top;\n",
       "    }\n",
       "\n",
       "    .dataframe thead tr th {\n",
       "        text-align: left;\n",
       "    }\n",
       "\n",
       "    .dataframe thead tr:last-of-type th {\n",
       "        text-align: right;\n",
       "    }\n",
       "</style>\n",
       "<table border=\"1\" class=\"dataframe\">\n",
       "  <thead>\n",
       "    <tr>\n",
       "      <th></th>\n",
       "      <th colspan=\"3\" halign=\"left\">outcome</th>\n",
       "    </tr>\n",
       "    <tr>\n",
       "      <th></th>\n",
       "      <th>mean</th>\n",
       "      <th>count</th>\n",
       "      <th>sum</th>\n",
       "    </tr>\n",
       "    <tr>\n",
       "      <th>symptoms</th>\n",
       "      <th></th>\n",
       "      <th></th>\n",
       "      <th></th>\n",
       "    </tr>\n",
       "  </thead>\n",
       "  <tbody>\n",
       "    <tr>\n",
       "      <th>0</th>\n",
       "      <td>0.994673</td>\n",
       "      <td>13703</td>\n",
       "      <td>13630</td>\n",
       "    </tr>\n",
       "    <tr>\n",
       "      <th>1</th>\n",
       "      <td>0.944444</td>\n",
       "      <td>234</td>\n",
       "      <td>221</td>\n",
       "    </tr>\n",
       "    <tr>\n",
       "      <th>2</th>\n",
       "      <td>0.913043</td>\n",
       "      <td>46</td>\n",
       "      <td>42</td>\n",
       "    </tr>\n",
       "    <tr>\n",
       "      <th>3</th>\n",
       "      <td>0.930769</td>\n",
       "      <td>130</td>\n",
       "      <td>121</td>\n",
       "    </tr>\n",
       "    <tr>\n",
       "      <th>4</th>\n",
       "      <td>0.923077</td>\n",
       "      <td>13</td>\n",
       "      <td>12</td>\n",
       "    </tr>\n",
       "  </tbody>\n",
       "</table>\n",
       "</div>"
      ],
      "text/plain": [
       "           outcome              \n",
       "              mean  count    sum\n",
       "symptoms                        \n",
       "0         0.994673  13703  13630\n",
       "1         0.944444    234    221\n",
       "2         0.913043     46     42\n",
       "3         0.930769    130    121\n",
       "4         0.923077     13     12"
      ]
     },
     "execution_count": 25,
     "metadata": {},
     "output_type": "execute_result"
    }
   ],
   "source": [
    "train[['symptoms', 'outcome']].groupby(['symptoms'], as_index=False).agg(['mean', 'count', 'sum'])"
   ]
  },
  {
   "cell_type": "code",
   "execution_count": 26,
   "metadata": {},
   "outputs": [],
   "source": [
    "# Se calcula el gini de sexo y síntomas\n",
    "def get_gini_impurity(alive_count, total_count):\n",
    "    alive_prob = alive_count/total_count\n",
    "    death_prob = (1 - alive_prob)\n",
    "    random_observation_alive_prob = alive_prob\n",
    "    random_observation_death_prob = (1 - random_observation_alive_prob)\n",
    "    mislabelling_alive_prob = death_prob * random_observation_alive_prob\n",
    "    mislabelling_death_prob = alive_prob * random_observation_death_prob\n",
    "    gini_impurity = mislabelling_alive_prob + mislabelling_death_prob\n",
    "    return gini_impurity"
   ]
  },
  {
   "cell_type": "code",
   "execution_count": 27,
   "metadata": {},
   "outputs": [
    {
     "data": {
      "text/plain": [
       "0.0140580610952951"
      ]
     },
     "execution_count": 27,
     "metadata": {},
     "output_type": "execute_result"
    }
   ],
   "source": [
    "# Gini Impurity of starting node\n",
    "gini_impurity_starting_node = get_gini_impurity(14026, 14126)\n",
    "gini_impurity_starting_node"
   ]
  },
  {
   "cell_type": "code",
   "execution_count": 28,
   "metadata": {},
   "outputs": [
    {
     "data": {
      "text/plain": [
       "0.11919599719115169"
      ]
     },
     "execution_count": 28,
     "metadata": {},
     "output_type": "execute_result"
    }
   ],
   "source": [
    "# Gini Impurity decrease of node for 'male' observations\n",
    "gini_impurity_men = get_gini_impurity(662, 707)\n",
    "gini_impurity_men"
   ]
  },
  {
   "cell_type": "code",
   "execution_count": 29,
   "metadata": {},
   "outputs": [
    {
     "data": {
      "text/plain": [
       "0.12713659028715638"
      ]
     },
     "execution_count": 29,
     "metadata": {},
     "output_type": "execute_result"
    }
   ],
   "source": [
    "# Gini Impurity decrease of node for 'female' observations\n",
    "gini_impurity_women = get_gini_impurity(519, 557)\n",
    "gini_impurity_women"
   ]
  },
  {
   "cell_type": "code",
   "execution_count": 30,
   "metadata": {},
   "outputs": [
    {
     "data": {
      "text/plain": [
       "0.0026399519064874196"
      ]
     },
     "execution_count": 30,
     "metadata": {},
     "output_type": "execute_result"
    }
   ],
   "source": [
    "# Gini Impurity decrease of node for 'Non-specifies' observations\n",
    "gini_impurity_non = get_gini_impurity(12845, 12862)\n",
    "gini_impurity_non"
   ]
  },
  {
   "cell_type": "code",
   "execution_count": 31,
   "metadata": {},
   "outputs": [
    {
     "data": {
      "text/plain": [
       "0.2186506650722091"
      ]
     },
     "execution_count": 31,
     "metadata": {},
     "output_type": "execute_result"
    }
   ],
   "source": [
    "# Valor del gini para sexo\n",
    "men_weight = 662/707\n",
    "women_weight = 519/557\n",
    "non_weight = 12845/12862\n",
    "weighted_gini_impurity_sex_split = (gini_impurity_men * men_weight) + (gini_impurity_women * women_weight) + (gini_impurity_non * non_weight)\n",
    "\n",
    "sex_gini_decrease = weighted_gini_impurity_sex_split - gini_impurity_starting_node\n",
    "sex_gini_decrease"
   ]
  },
  {
   "cell_type": "code",
   "execution_count": 32,
   "metadata": {},
   "outputs": [
    {
     "data": {
      "text/plain": [
       "0.010597840919046721"
      ]
     },
     "execution_count": 32,
     "metadata": {},
     "output_type": "execute_result"
    }
   ],
   "source": [
    "# Gini Impurity decrease of node for 'others' observations\n",
    "gini_impurity_others = get_gini_impurity(13630, 13703)\n",
    "gini_impurity_others"
   ]
  },
  {
   "cell_type": "code",
   "execution_count": 33,
   "metadata": {},
   "outputs": [
    {
     "data": {
      "text/plain": [
       "0.10493827160493832"
      ]
     },
     "execution_count": 33,
     "metadata": {},
     "output_type": "execute_result"
    }
   ],
   "source": [
    "# Gini Impurity decrease of node for 'fever' observations\n",
    "gini_impurity_fever = get_gini_impurity(221, 234)\n",
    "gini_impurity_fever"
   ]
  },
  {
   "cell_type": "code",
   "execution_count": 34,
   "metadata": {},
   "outputs": [
    {
     "data": {
      "text/plain": [
       "0.12887573964497037"
      ]
     },
     "execution_count": 34,
     "metadata": {},
     "output_type": "execute_result"
    }
   ],
   "source": [
    "# Gini Impurity decrease of node for 'cough' observations\n",
    "gini_impurity_cough = get_gini_impurity(121, 130)\n",
    "gini_impurity_cough"
   ]
  },
  {
   "cell_type": "code",
   "execution_count": 35,
   "metadata": {},
   "outputs": [
    {
     "data": {
      "text/plain": [
       "0.12887573964497037"
      ]
     },
     "execution_count": 35,
     "metadata": {},
     "output_type": "execute_result"
    }
   ],
   "source": [
    "# Gini Impurity decrease of node for 'fever and cough' observations\n",
    "gini_impurity_fever_and_cough = get_gini_impurity(121, 130)\n",
    "gini_impurity_fever_and_cough"
   ]
  },
  {
   "cell_type": "code",
   "execution_count": 36,
   "metadata": {},
   "outputs": [
    {
     "data": {
      "text/plain": [
       "0.14201183431952655"
      ]
     },
     "execution_count": 36,
     "metadata": {},
     "output_type": "execute_result"
    }
   ],
   "source": [
    "# Gini Impurity decrease of node for 'asymptomatic' observations\n",
    "gini_impurity_asymptomatic = get_gini_impurity(12, 13)\n",
    "gini_impurity_asymptomatic"
   ]
  },
  {
   "cell_type": "code",
   "execution_count": 37,
   "metadata": {},
   "outputs": [
    {
     "data": {
      "text/plain": [
       "0.46428153367848557"
      ]
     },
     "execution_count": 37,
     "metadata": {},
     "output_type": "execute_result"
    }
   ],
   "source": [
    "# Valor del gini para síntomas\n",
    "others_weight = 13630/13730\n",
    "fever_weight = 221/234\n",
    "cough_weight = 42/46\n",
    "fever_and_cough_weight = 121/130\n",
    "asymptomatic_weight = 12/13\n",
    "weighted_gini_impurity_symptoms_split = (gini_impurity_others * others_weight) + (gini_impurity_fever * fever_weight) + (gini_impurity_cough * cough_weight) + (gini_impurity_fever_and_cough * fever_and_cough_weight) + (gini_impurity_asymptomatic * asymptomatic_weight)\n",
    "\n",
    "symptoms_gini_decrease = weighted_gini_impurity_symptoms_split - gini_impurity_starting_node\n",
    "symptoms_gini_decrease"
   ]
  },
  {
   "cell_type": "markdown",
   "metadata": {},
   "source": [
    "# Cross Validation\n",
    "Se realiza este método para obtener el número de max depth que será utilizado en el árbol de decisión."
   ]
  },
  {
   "cell_type": "code",
   "execution_count": 38,
   "metadata": {},
   "outputs": [
    {
     "name": "stdout",
     "output_type": "stream",
     "text": [
      " Max Depth  Average Accuracy\n",
      "         1          0.992921\n",
      "         2          0.992567\n",
      "         3          0.992992\n",
      "         4          0.993346\n",
      "         5          0.993275\n"
     ]
    }
   ],
   "source": [
    "cv = KFold(n_splits=10) \n",
    "accuracies = list()\n",
    "max_attributes = len(list(test))\n",
    "depth_range = range(1, max_attributes + 1)\n",
    "\n",
    "# Testing max_depths from 1 to max attributes\n",
    "# Uncomment prints for details about each Cross Validation pass\n",
    "for depth in depth_range:\n",
    "    fold_accuracy = []\n",
    "    tree_model = tree.DecisionTreeClassifier(max_depth = depth)\n",
    "    # print(\"Current max depth: \", depth, \"\\n\")\n",
    "    for train_fold, valid_fold in cv.split(train):\n",
    "        f_train = train.loc[train_fold] # Extract train data with cv indices\n",
    "        f_valid = train.loc[valid_fold] # Extract valid data with cv indices\n",
    "\n",
    "        model = tree_model.fit(X = f_train.drop(['outcome'], axis=1), \n",
    "                               y = f_train[\"outcome\"]) # We fit the model with the fold train data\n",
    "        valid_acc = model.score(X = f_valid.drop(['outcome'], axis=1), \n",
    "                                y = f_valid[\"outcome\"])# We calculate accuracy with the fold validation data\n",
    "        fold_accuracy.append(valid_acc)\n",
    "    avg = sum(fold_accuracy)/len(fold_accuracy)\n",
    "    accuracies.append(avg)\n",
    "    \n",
    "df = pd.DataFrame({\"Max Depth\": depth_range, \"Average Accuracy\": accuracies})\n",
    "df = df[[\"Max Depth\", \"Average Accuracy\"]]\n",
    "print(df.to_string(index=False))"
   ]
  },
  {
   "cell_type": "markdown",
   "metadata": {},
   "source": [
    "# Árbol de decisión con sklearn"
   ]
  },
  {
   "cell_type": "code",
   "execution_count": 52,
   "metadata": {},
   "outputs": [
    {
     "data": {
      "image/png": "[encoded data removed]",
      "text/plain": [
       "<IPython.core.display.Image object>"
      ]
     },
     "execution_count": 52,
     "metadata": {},
     "output_type": "execute_result"
    }
   ],
   "source": [
    "import graphviz\n",
    "#Usar el 3\n",
    "y_train = train['outcome']\n",
    "x_train = train.drop(['outcome'], axis=1).values \n",
    "x_test = test.drop(['outcome'], axis=1).values\n",
    "\n",
    "# Create Decision Tree with max_depth = 3\n",
    "decision_tree = tree.DecisionTreeClassifier(max_depth = 3)\n",
    "decision_tree.fit(x_train, y_train)\n",
    "\n",
    "# Predicting results for test dataset\n",
    "y_pred = decision_tree.predict(x_test)\n",
    "submission = pd.DataFrame({\n",
    "        'ID': id,\n",
    "        \"outcome\": y_pred\n",
    "    })\n",
    "submission.to_csv('submission.csv', index=False)\n",
    "\n",
    "with open(\"tree1.dot\", 'w') as f:\n",
    "     f = tree.export_graphviz(decision_tree,\n",
    "                              out_file=f,\n",
    "                              max_depth = 3,\n",
    "                              impurity = True,\n",
    "                              feature_names = list(train.drop(['outcome'], axis=1)),\n",
    "                              class_names = ['death', 'alive'],\n",
    "                              rounded = True,\n",
    "                              filled= True )\n",
    "\n",
    "\n",
    "check_call(['dot','-Tpng','tree1.dot','-o','tree1.png'])\n",
    "\n",
    "img = Image.open(\"tree1.png\")\n",
    "draw = ImageDraw.Draw(img)\n",
    "font = ImageFont.truetype('Arial', 26)\n",
    "draw.text((10, 0), # Drawing offset (position)\n",
    "          '\"Sex <= 1.5\" corresponds to \"male/female\"', # Text to draw\n",
    "          (0,0,255), # RGB desired color\n",
    "          font=font) # ImageFont object with desired font\n",
    "img.save('sample-out.png')\n",
    "PImage(\"sample-out.png\")"
   ]
  },
  {
   "cell_type": "code",
   "execution_count": 49,
   "metadata": {},
   "outputs": [
    {
     "data": {
      "text/plain": [
       "99.32"
      ]
     },
     "execution_count": 49,
     "metadata": {},
     "output_type": "execute_result"
    }
   ],
   "source": [
    "# Se obtiene la exactitud del modelo obtenido\n",
    "acc_decision_tree = round(decision_tree.score(x_train, y_train) * 100, 2)\n",
    "acc_decision_tree"
   ]
  }
 ],
 "metadata": {
  "kernelspec": {
   "display_name": "Python 3",
   "language": "python",
   "name": "python3"
  },
  "language_info": {
   "codemirror_mode": {
    "name": "ipython",
    "version": 3
   },
   "file_extension": ".py",
   "mimetype": "text/x-python",
   "name": "python",
   "nbconvert_exporter": "python",
   "pygments_lexer": "ipython3",
   "version": "3.7.6"
  }
 },
 "nbformat": 4,
 "nbformat_minor": 4
}
